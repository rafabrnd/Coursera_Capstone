{
  "nbformat": 4,
  "nbformat_minor": 0,
  "metadata": {
    "colab": {
      "name": "coursera_capstone_bar.ipynb",
      "provenance": [],
      "authorship_tag": "ABX9TyPbWtYhT0uWvoa64HmVyjPX",
      "include_colab_link": true
    },
    "kernelspec": {
      "name": "python3",
      "display_name": "Python 3"
    }
  },
  "cells": [
    {
      "cell_type": "markdown",
      "metadata": {
        "id": "view-in-github",
        "colab_type": "text"
      },
      "source": [
        "<a href=\"https://colab.research.google.com/github/rafabrnd/Coursera_Capstone/blob/master/coursera_capstone_bar.ipynb\" target=\"_parent\"><img src=\"https://colab.research.google.com/assets/colab-badge.svg\" alt=\"Open In Colab\"/></a>"
      ]
    },
    {
      "cell_type": "markdown",
      "metadata": {
        "id": "jGjNu8CX39fJ",
        "colab_type": "text"
      },
      "source": [
        "# Finding the best location for a nightclub in the city of Copenhagen, Denmark\n",
        "\n",
        "A multinational nightlife investment company who owns diverse bars and nightclubs would like to expand his business to the city of Copenhagen in Denmark. Diverse previous reports indicated that the most lively areas (areas where most bars & nightclubs) are located have the most amount of food traffic in the city during the night time. For this reason, the company would like to find areas of the city that are arealy established as go-to zones for the young party community. These areas would represent the perfect location for a new and exciting nightlife business. \n",
        "\n",
        "In this notebook I will cluster the different locations of the city of Copenhagen based on the most common venues in order to understand where the location of the new bar should be. "
      ]
    },
    {
      "cell_type": "markdown",
      "metadata": {
        "id": "StS3ANY6NlCy",
        "colab_type": "text"
      },
      "source": [
        "Import necessary libraries"
      ]
    },
    {
      "cell_type": "code",
      "metadata": {
        "id": "sqcrsPv734yj",
        "colab_type": "code",
        "outputId": "8f4d4cdf-2112-48fd-ead1-604115e5947a",
        "colab": {
          "base_uri": "https://localhost:8080/",
          "height": 33
        }
      },
      "source": [
        "#basics\n",
        "import requests # library to handle requests\n",
        "import pandas as pd # library for data analsysis\n",
        "import numpy as np # library to handle data in a vectorized manner\n",
        "import random # library for random number generation\n",
        "\n",
        "# libraries for displaying images // HTML extractors\n",
        "#!pip install beautifulsoup4\n",
        "#!pip install lxml\n",
        "from IPython.display import Image \n",
        "from IPython.core.display import HTML \n",
        "from IPython.display import display_html\n",
        "from bs4 import BeautifulSoup\n",
        "\n",
        "# tranforming json file into a pandas dataframe library\n",
        "import json # library to handle JSON files\n",
        "from pandas.io.json import json_normalize\n",
        "\n",
        "\n",
        "#maps\n",
        "#!conda install -c conda-forge folium=0.5.0 --yes\n",
        "import folium # plotting library\n",
        "from geopy.geocoders import Nominatim # module to convert an address into latitude and longitude values\n",
        "from geopy.exc import GeocoderTimedOut\n",
        "\n",
        "#machine learning\n",
        "from sklearn.cluster import KMeans\n",
        "\n",
        "#visualizations\n",
        "import matplotlib.pyplot as plt\n",
        "import matplotlib.cm as cm\n",
        "import matplotlib.colors as colors\n",
        "%matplotlib inline\n",
        "\n",
        "print('Libraries imported.')"
      ],
      "execution_count": 43,
      "outputs": [
        {
          "output_type": "stream",
          "text": [
            "Libraries imported.\n"
          ],
          "name": "stdout"
        }
      ]
    },
    {
      "cell_type": "markdown",
      "metadata": {
        "id": "SfrJVhCgNuoB",
        "colab_type": "text"
      },
      "source": [
        "# 1. Extract the data & Wrangling\n",
        "More information on this package here: \n",
        "\n",
        "\n",
        "*   http://beautiful-soup-4.readthedocs.io/en/latest/\n",
        "\n",
        "*   https://www.youtube.com/watch?v=ng2o98k983k"
      ]
    },
    {
      "cell_type": "code",
      "metadata": {
        "id": "Sv49801rNr0c",
        "colab_type": "code",
        "outputId": "d7fe141e-a7a0-49d9-b782-685c11ac0f46",
        "colab": {
          "base_uri": "https://localhost:8080/",
          "height": 1000
        }
      },
      "source": [
        "source = requests.get('https://www.regionh.dk/english/about-the-capital-region/facts-about-the-region/Pages/Postal-codes.aspx').text\n",
        "soup=BeautifulSoup(source,'lxml')\n",
        "from IPython.display import display_html\n",
        "tab = str(soup.table)\n",
        "display_html(tab,raw=True)"
      ],
      "execution_count": 44,
      "outputs": [
        {
          "output_type": "display_data",
          "data": {
            "text/html": [
              "<table border=\"1\" cellpadding=\"0\" cellspacing=\"0\" style=\"border:1pt solid windowtext;width:276px;height:3723px;\" width=\"276\"><tbody><tr style=\"height:12.5pt;\"><td style=\"border:1pt solid windowtext;padding:0.75pt;width:50%;height:12.5pt;\" width=\"50%\"><p align=\"center\" style=\"text-align:center;\"><b>City</b></p></td><td style=\"border:1pt solid windowtext;padding:0.75pt;width:50%;height:12.5pt;\" width=\"50%\"><p align=\"center\" style=\"text-align:center;\"><b>Postal codes</b></p></td></tr><tr style=\"height:12.5pt;\"><td style=\"border:1pt solid windowtext;padding:0.75pt;width:50%;height:12.5pt;\" width=\"50%\"><p>Albertslund</p></td><td style=\"border:1pt solid windowtext;padding:0.75pt;width:50%;height:12.5pt;\" width=\"50%\"><p>2620</p></td></tr><tr style=\"height:12.5pt;\"><td style=\"border:1pt solid windowtext;padding:0.75pt;width:50%;height:12.5pt;\" width=\"50%\"><p>Allerød</p></td><td style=\"border:1pt solid windowtext;padding:0.75pt;width:50%;height:12.5pt;\" width=\"50%\"><p>3450</p></td></tr><tr style=\"height:12.5pt;\"><td style=\"border:1pt solid windowtext;padding:0.75pt;width:50%;height:12.5pt;\" width=\"50%\"><p>Allinge</p></td><td style=\"border:1pt solid windowtext;padding:0.75pt;width:50%;height:12.5pt;\" width=\"50%\"><p>3770</p></td></tr><tr style=\"height:12.5pt;\"><td style=\"border:1pt solid windowtext;padding:0.75pt;width:50%;height:12.5pt;\" width=\"50%\"><p>Bagsværd</p></td><td style=\"border:1pt solid windowtext;padding:0.75pt;width:50%;height:12.5pt;\" width=\"50%\"><p>2880</p></td></tr><tr style=\"height:11.8pt;\"><td style=\"border:1pt solid windowtext;padding:0.75pt;width:50%;height:11.8pt;\" width=\"50%\"><p>Ballerup</p></td><td style=\"border:1pt solid windowtext;padding:0.75pt;width:50%;height:11.8pt;\" width=\"50%\"><p>2750</p></td></tr><tr style=\"height:12.5pt;\"><td style=\"border:1pt solid windowtext;padding:0.75pt;width:50%;height:12.5pt;\" width=\"50%\"><p>Birkerød</p></td><td style=\"border:1pt solid windowtext;padding:0.75pt;width:50%;height:12.5pt;\" width=\"50%\"><p>3460</p></td></tr><tr style=\"height:11.8pt;\"><td style=\"border:1pt solid windowtext;padding:0.75pt;width:50%;height:11.8pt;\" width=\"50%\"><p>Brøndby</p></td><td style=\"border:1pt solid windowtext;padding:0.75pt;width:50%;height:11.8pt;\" width=\"50%\"><p>2605</p></td></tr><tr style=\"height:11.8pt;\"><td style=\"border:1pt solid windowtext;padding:0.75pt;width:50%;height:11.8pt;\" width=\"50%\"><p>Brøndby Strand</p></td><td style=\"border:1pt solid windowtext;padding:0.75pt;width:50%;height:11.8pt;\" width=\"50%\"><p>2660</p></td></tr><tr style=\"height:11.8pt;\"><td style=\"border:1pt solid windowtext;padding:0.75pt;width:50%;height:11.8pt;\" width=\"50%\"><p>Brønshøj</p></td><td style=\"border:1pt solid windowtext;padding:0.75pt;width:50%;height:11.8pt;\" width=\"50%\"><p>2700</p></td></tr><tr style=\"height:11.8pt;\"><td style=\"border:1pt solid windowtext;padding:0.75pt;width:50%;height:11.8pt;\" width=\"50%\"><p>Charlottenlund</p></td><td style=\"border:1pt solid windowtext;padding:0.75pt;width:50%;height:11.8pt;\" width=\"50%\"><p>2920</p></td></tr><tr style=\"height:11.8pt;\"><td style=\"border:1pt solid windowtext;padding:0.75pt;width:50%;height:11.8pt;\" width=\"50%\"><p>Dragør</p></td><td style=\"border:1pt solid windowtext;padding:0.75pt;width:50%;height:11.8pt;\" width=\"50%\"><p>2791</p></td></tr><tr style=\"height:12.5pt;\"><td style=\"border:1pt solid windowtext;padding:0.75pt;width:50%;height:12.5pt;\" width=\"50%\"><p>Dronningmølle</p></td><td style=\"border:1pt solid windowtext;padding:0.75pt;width:50%;height:12.5pt;\" width=\"50%\"><p>3120</p></td></tr><tr style=\"height:11.8pt;\"><td style=\"border:1pt solid windowtext;padding:0.75pt;width:50%;height:11.8pt;\" width=\"50%\"><p>Dyssegård</p></td><td style=\"border:1pt solid windowtext;padding:0.75pt;width:50%;height:11.8pt;\" width=\"50%\"><p>2870</p></td></tr><tr style=\"height:12.5pt;\"><td style=\"border:1pt solid windowtext;padding:0.75pt;width:50%;height:12.5pt;\" width=\"50%\"><p>Espergærde</p></td><td style=\"border:1pt solid windowtext;padding:0.75pt;width:50%;height:12.5pt;\" width=\"50%\"><p>3060</p></td></tr><tr style=\"height:12.5pt;\"><td style=\"border:1pt solid windowtext;padding:0.75pt;width:50%;height:12.5pt;\" width=\"50%\"><p>Farum</p></td><td style=\"border:1pt solid windowtext;padding:0.75pt;width:50%;height:12.5pt;\" width=\"50%\"><p>3520</p></td></tr><tr style=\"height:12.5pt;\"><td style=\"border:1pt solid windowtext;padding:0.75pt;width:50%;height:12.5pt;\" width=\"50%\"><p>Fredensborg</p></td><td style=\"border:1pt solid windowtext;padding:0.75pt;width:50%;height:12.5pt;\" width=\"50%\"><p>3480</p></td></tr><tr style=\"height:11.8pt;\"><td style=\"border:1pt solid windowtext;padding:0.75pt;width:50%;height:11.8pt;\" width=\"50%\"><p>Frederiksberg C</p></td><td style=\"border:1pt solid windowtext;padding:0.75pt;width:50%;height:11.8pt;\" width=\"50%\"><p>N/A: <a href=\"/english/about-the-capital-region/facts-about-the-region/PublishingImages/PostalcodesEnglish.pdf\" target=\"_blank\">Download all the postal codes for the region</a> (PDF-file, opens in a new window)</p></td></tr><tr style=\"height:11.8pt;\"><td style=\"border:1pt solid windowtext;padding:0.75pt;width:50%;height:11.8pt;\" width=\"50%\"><p>Frederiksberg</p></td><td style=\"border:1pt solid windowtext;padding:0.75pt;width:50%;height:11.8pt;\" width=\"50%\"><p>2000</p></td></tr><tr style=\"height:12.5pt;\"><td style=\"border:1pt solid windowtext;padding:0.75pt;width:50%;height:12.5pt;\" width=\"50%\"><p>Frederikssund</p></td><td style=\"border:1pt solid windowtext;padding:0.75pt;width:50%;height:12.5pt;\" width=\"50%\"><p>3600</p></td></tr><tr style=\"height:12.5pt;\"><td style=\"border:1pt solid windowtext;padding:0.75pt;width:50%;height:12.5pt;\" width=\"50%\"><p>Frederiksværk</p></td><td style=\"border:1pt solid windowtext;padding:0.75pt;width:50%;height:12.5pt;\" width=\"50%\"><p>3300</p></td></tr><tr style=\"height:11.8pt;\"><td style=\"border:1pt solid windowtext;padding:0.75pt;width:50%;height:11.8pt;\" width=\"50%\"><p>Gentofte</p></td><td style=\"border:1pt solid windowtext;padding:0.75pt;width:50%;height:11.8pt;\" width=\"50%\"><p>2820</p></td></tr><tr style=\"height:12.5pt;\"><td style=\"border:1pt solid windowtext;padding:0.75pt;width:50%;height:12.5pt;\" width=\"50%\"><p>Gilleleje</p></td><td style=\"border:1pt solid windowtext;padding:0.75pt;width:50%;height:12.5pt;\" width=\"50%\"><p>3250</p></td></tr><tr style=\"height:11.8pt;\"><td style=\"border:1pt solid windowtext;padding:0.75pt;width:50%;height:11.8pt;\" width=\"50%\"><p>Glostrup</p></td><td style=\"border:1pt solid windowtext;padding:0.75pt;width:50%;height:11.8pt;\" width=\"50%\"><p>2600</p></td></tr><tr style=\"height:12.5pt;\"><td style=\"border:1pt solid windowtext;padding:0.75pt;width:50%;height:12.5pt;\" width=\"50%\"><p>Græsted</p></td><td style=\"border:1pt solid windowtext;padding:0.75pt;width:50%;height:12.5pt;\" width=\"50%\"><p>3230</p></td></tr><tr style=\"height:12.5pt;\"><td style=\"border:1pt solid windowtext;padding:0.75pt;width:50%;height:12.5pt;\" width=\"50%\"><p>Gudhjem</p></td><td style=\"border:1pt solid windowtext;padding:0.75pt;width:50%;height:12.5pt;\" width=\"50%\"><p>3760</p></td></tr><tr style=\"height:12.5pt;\"><td style=\"border:1pt solid windowtext;padding:0.75pt;width:50%;height:12.5pt;\" width=\"50%\"><p>Gørløse</p></td><td style=\"border:1pt solid windowtext;padding:0.75pt;width:50%;height:12.5pt;\" width=\"50%\"><p>3330</p></td></tr><tr style=\"height:12.5pt;\"><td style=\"border:1pt solid windowtext;padding:0.75pt;width:50%;height:12.5pt;\" width=\"50%\"><p>Hasle</p></td><td style=\"border:1pt solid windowtext;padding:0.75pt;width:50%;height:12.5pt;\" width=\"50%\"><p>3790</p></td></tr><tr style=\"height:11.8pt;\"><td style=\"border:1pt solid windowtext;padding:0.75pt;width:50%;height:11.8pt;\" width=\"50%\"><p>Hedehusene</p></td><td style=\"border:1pt solid windowtext;padding:0.75pt;width:50%;height:11.8pt;\" width=\"50%\"><p>2640</p></td></tr><tr style=\"height:12.5pt;\"><td style=\"border:1pt solid windowtext;padding:0.75pt;width:50%;height:12.5pt;\" width=\"50%\"><p>Hellebæk</p></td><td style=\"border:1pt solid windowtext;padding:0.75pt;width:50%;height:12.5pt;\" width=\"50%\"><p>3150</p></td></tr><tr style=\"height:11.8pt;\"><td style=\"border:1pt solid windowtext;padding:0.75pt;width:50%;height:11.8pt;\" width=\"50%\"><p>Hellerup</p></td><td style=\"border:1pt solid windowtext;padding:0.75pt;width:50%;height:11.8pt;\" width=\"50%\"><p>2900</p></td></tr><tr style=\"height:12.5pt;\"><td style=\"border:1pt solid windowtext;padding:0.75pt;width:50%;height:12.5pt;\" width=\"50%\"><p>Helsinge</p></td><td style=\"border:1pt solid windowtext;padding:0.75pt;width:50%;height:12.5pt;\" width=\"50%\"><p>3200</p></td></tr><tr style=\"height:12.5pt;\"><td style=\"border:1pt solid windowtext;padding:0.75pt;width:50%;height:12.5pt;\" width=\"50%\"><p>Helsingør</p></td><td style=\"border:1pt solid windowtext;padding:0.75pt;width:50%;height:12.5pt;\" width=\"50%\"><p>3000</p></td></tr><tr style=\"height:11.8pt;\"><td style=\"border:1pt solid windowtext;padding:0.75pt;width:50%;height:11.8pt;\" width=\"50%\"><p>Herlev</p></td><td style=\"border:1pt solid windowtext;padding:0.75pt;width:50%;height:11.8pt;\" width=\"50%\"><p>2730</p></td></tr><tr style=\"height:12.5pt;\"><td style=\"border:1pt solid windowtext;padding:0.75pt;width:50%;height:12.5pt;\" width=\"50%\"><p>Hillerød</p></td><td style=\"border:1pt solid windowtext;padding:0.75pt;width:50%;height:12.5pt;\" width=\"50%\"><p>3400</p></td></tr><tr style=\"height:12.5pt;\"><td style=\"border:1pt solid windowtext;padding:0.75pt;width:50%;height:12.5pt;\" width=\"50%\"><p>Holte</p></td><td style=\"border:1pt solid windowtext;padding:0.75pt;width:50%;height:12.5pt;\" width=\"50%\"><p>2840</p></td></tr><tr style=\"height:12.5pt;\"><td style=\"border:1pt solid windowtext;padding:0.75pt;width:50%;height:12.5pt;\" width=\"50%\"><p>Hornbæk</p></td><td style=\"border:1pt solid windowtext;padding:0.75pt;width:50%;height:12.5pt;\" width=\"50%\"><p>3100</p></td></tr><tr style=\"height:12.5pt;\"><td style=\"border:1pt solid windowtext;padding:0.75pt;width:50%;height:12.5pt;\" width=\"50%\"><p>Humlebæk</p></td><td style=\"border:1pt solid windowtext;padding:0.75pt;width:50%;height:12.5pt;\" width=\"50%\"><p>3050</p></td></tr><tr style=\"height:12.5pt;\"><td style=\"border:1pt solid windowtext;padding:0.75pt;width:50%;height:12.5pt;\" width=\"50%\"><p>Hundested</p></td><td style=\"border:1pt solid windowtext;padding:0.75pt;width:50%;height:12.5pt;\" width=\"50%\"><p>3390</p></td></tr><tr style=\"height:12.5pt;\"><td style=\"border:1pt solid windowtext;padding:0.75pt;width:50%;height:12.5pt;\" width=\"50%\"><p>Hvidovre</p></td><td style=\"border:1pt solid windowtext;padding:0.75pt;width:50%;height:12.5pt;\" width=\"50%\"><p>2650</p></td></tr><tr style=\"height:11.8pt;\"><td style=\"border:1pt solid windowtext;padding:0.75pt;width:50%;height:11.8pt;\" width=\"50%\"><p>Hørsholm</p></td><td style=\"border:1pt solid windowtext;padding:0.75pt;width:50%;height:11.8pt;\" width=\"50%\"><p>2970</p></td></tr><tr style=\"height:11.8pt;\"><td style=\"border:1pt solid windowtext;padding:0.75pt;width:50%;height:11.8pt;\" width=\"50%\"><p>Ishøj</p></td><td style=\"border:1pt solid windowtext;padding:0.75pt;width:50%;height:11.8pt;\" width=\"50%\"><p>2635</p></td></tr><tr style=\"height:12.5pt;\"><td style=\"border:1pt solid windowtext;padding:0.75pt;width:50%;height:12.5pt;\" width=\"50%\"><p>Jægerspris</p></td><td style=\"border:1pt solid windowtext;padding:0.75pt;width:50%;height:12.5pt;\" width=\"50%\"><p>3630</p></td></tr><tr style=\"height:12.5pt;\"><td style=\"border:1pt solid windowtext;padding:0.75pt;width:50%;height:12.5pt;\" width=\"50%\"><p>Kastrup</p></td><td style=\"border:1pt solid windowtext;padding:0.75pt;width:50%;height:12.5pt;\" width=\"50%\"><p>2770</p></td></tr><tr style=\"height:11.8pt;\"><td style=\"border:1pt solid windowtext;padding:0.75pt;width:50%;height:11.8pt;\" width=\"50%\"><p>Klampenborg</p></td><td style=\"border:1pt solid windowtext;padding:0.75pt;width:50%;height:11.8pt;\" width=\"50%\"><p>2930</p></td></tr><tr style=\"height:11.8pt;\"><td style=\"border:1pt solid windowtext;padding:0.75pt;width:50%;height:11.8pt;\" width=\"50%\"><p>Klemensker</p></td><td style=\"border:1pt solid windowtext;padding:0.75pt;width:50%;height:11.8pt;\" width=\"50%\"><p>3782</p></td></tr><tr style=\"height:11.8pt;\"><td style=\"border:1pt solid windowtext;padding:0.75pt;width:50%;height:11.8pt;\" width=\"50%\"><p>Kokkedal</p></td><td style=\"border:1pt solid windowtext;padding:0.75pt;width:50%;height:11.8pt;\" width=\"50%\"><p>2980</p></td></tr><tr style=\"height:11.8pt;\"><td style=\"border:1pt solid windowtext;padding:0.75pt;width:50%;height:11.8pt;\" width=\"50%\"><p>Kongens Lyngby</p></td><td style=\"border:1pt solid windowtext;padding:0.75pt;width:50%;height:11.8pt;\" width=\"50%\"><p>2800</p></td></tr><tr style=\"height:12.5pt;\"><td style=\"border:1pt solid windowtext;padding:0.75pt;width:50%;height:12.5pt;\" width=\"50%\"><p>Kvistgård</p></td><td style=\"border:1pt solid windowtext;padding:0.75pt;width:50%;height:12.5pt;\" width=\"50%\"><p>3490</p></td></tr><tr style=\"height:11.8pt;\"><td style=\"border:1pt solid windowtext;padding:0.75pt;width:50%;height:11.8pt;\" width=\"50%\"><p>København K</p></td><td style=\"border:1pt solid windowtext;padding:0.75pt;width:50%;height:11.8pt;\" width=\"50%\"><p>N/A: <a href=\"/english/about-the-capital-region/facts-about-the-region/PublishingImages/PostalcodesEnglish.pdf\" target=\"_blank\">Download all the postal codes for the region</a> (PDF-file, opens in a new window)</p></td></tr><tr style=\"height:11.8pt;\"><td style=\"border:1pt solid windowtext;padding:0.75pt;width:50%;height:11.8pt;\" width=\"50%\"><p>København N</p></td><td style=\"border:1pt solid windowtext;padding:0.75pt;width:50%;height:11.8pt;\" width=\"50%\"><p>2200</p></td></tr><tr style=\"height:11.8pt;\"><td style=\"border:1pt solid windowtext;padding:0.75pt;width:50%;height:11.8pt;\" width=\"50%\"><p>København NV</p></td><td style=\"border:1pt solid windowtext;padding:0.75pt;width:50%;height:11.8pt;\" width=\"50%\"><p>2400</p></td></tr><tr style=\"height:11.8pt;\"><td style=\"border:1pt solid windowtext;padding:0.75pt;width:50%;height:11.8pt;\" width=\"50%\"><p>København S</p></td><td style=\"border:1pt solid windowtext;padding:0.75pt;width:50%;height:11.8pt;\" width=\"50%\"><p>2300</p></td></tr><tr style=\"height:12.5pt;\"><td style=\"border:1pt solid windowtext;padding:0.75pt;width:50%;height:12.5pt;\" width=\"50%\"><p>København SV</p></td><td style=\"border:1pt solid windowtext;padding:0.75pt;width:50%;height:12.5pt;\" width=\"50%\"><p>2450</p></td></tr><tr style=\"height:12.5pt;\"><td style=\"border:1pt solid windowtext;padding:0.75pt;width:50%;height:12.5pt;\" width=\"50%\"><p>København Ø</p></td><td style=\"border:1pt solid windowtext;padding:0.75pt;width:50%;height:12.5pt;\" width=\"50%\"><p>2100</p></td></tr><tr style=\"height:11.8pt;\"><td style=\"border:1pt solid windowtext;padding:0.75pt;width:50%;height:11.8pt;\" width=\"50%\"><p>København V</p></td><td style=\"border:1pt solid windowtext;padding:0.75pt;width:50%;height:11.8pt;\" width=\"50%\"><p>N/A: <a href=\"/english/about-the-capital-region/facts-about-the-region/PublishingImages/PostalcodesEnglish.pdf\" target=\"_blank\">Download all the pos​tal codes for the region</a> (PDF-file, opens in a new window)</p></td></tr><tr style=\"height:12.5pt;\"><td style=\"border:1pt solid windowtext;padding:0.75pt;width:50%;height:12.5pt;\" width=\"50%\"><p>Liseleje</p></td><td style=\"border:1pt solid windowtext;padding:0.75pt;width:50%;height:12.5pt;\" width=\"50%\"><p>3360</p></td></tr><tr style=\"height:12.5pt;\"><td style=\"border:1pt solid windowtext;padding:0.75pt;width:50%;height:12.5pt;\" width=\"50%\"><p>Lynge</p></td><td style=\"border:1pt solid windowtext;padding:0.75pt;width:50%;height:12.5pt;\" width=\"50%\"><p>3540</p></td></tr><tr style=\"height:12.5pt;\"><td style=\"border:1pt solid windowtext;padding:0.75pt;width:50%;height:12.5pt;\" width=\"50%\"><p>Melby</p></td><td style=\"border:1pt solid windowtext;padding:0.75pt;width:50%;height:12.5pt;\" width=\"50%\"><p>3370</p></td></tr><tr style=\"height:11.8pt;\"><td style=\"border:1pt solid windowtext;padding:0.75pt;width:50%;height:11.8pt;\" width=\"50%\"><p>Måløv</p></td><td style=\"border:1pt solid windowtext;padding:0.75pt;width:50%;height:11.8pt;\" width=\"50%\"><p>2760</p></td></tr><tr style=\"height:11.8pt;\"><td style=\"border:1pt solid windowtext;padding:0.75pt;width:50%;height:11.8pt;\" width=\"50%\"><p>Nexø</p></td><td style=\"border:1pt solid windowtext;padding:0.75pt;width:50%;height:11.8pt;\" width=\"50%\"><p>3730</p></td></tr><tr style=\"height:12.5pt;\"><td style=\"border:1pt solid windowtext;padding:0.75pt;width:50%;height:12.5pt;\" width=\"50%\"><p>Nivå</p></td><td style=\"border:1pt solid windowtext;padding:0.75pt;width:50%;height:12.5pt;\" width=\"50%\"><p>2990</p></td></tr><tr style=\"height:11.8pt;\"><td style=\"border:1pt solid windowtext;padding:0.75pt;width:50%;height:11.8pt;\" width=\"50%\"><p>Nærum</p></td><td style=\"border:1pt solid windowtext;padding:0.75pt;width:50%;height:11.8pt;\" width=\"50%\"><p>2850</p></td></tr><tr style=\"height:11.8pt;\"><td style=\"border:1pt solid windowtext;padding:0.75pt;width:50%;height:11.8pt;\" width=\"50%\"><p>Rungsted Kyst</p></td><td style=\"border:1pt solid windowtext;padding:0.75pt;width:50%;height:11.8pt;\" width=\"50%\"><p>2960</p></td></tr><tr style=\"height:11.8pt;\"><td style=\"border:1pt solid windowtext;padding:0.75pt;width:50%;height:11.8pt;\" width=\"50%\"><p>Rødovre</p></td><td style=\"border:1pt solid windowtext;padding:0.75pt;width:50%;height:11.8pt;\" width=\"50%\"><p>2610</p></td></tr><tr style=\"height:11.8pt;\"><td style=\"border:1pt solid windowtext;padding:0.75pt;width:50%;height:11.8pt;\" width=\"50%\"><p>Rønne</p></td><td style=\"border:1pt solid windowtext;padding:0.75pt;width:50%;height:11.8pt;\" width=\"50%\"><p>3700</p></td></tr><tr style=\"height:11.8pt;\"><td style=\"border:1pt solid windowtext;padding:0.75pt;width:50%;height:11.8pt;\" width=\"50%\">Skibby</td><td style=\"border:1pt solid windowtext;padding:0.75pt;width:50%;height:11.8pt;\" width=\"50%\">4050</td></tr><tr style=\"height:11.8pt;\"><td style=\"border:1pt solid windowtext;padding:0.75pt;width:50%;height:11.8pt;\" width=\"50%\"><p>Skodsborg</p></td><td style=\"border:1pt solid windowtext;padding:0.75pt;width:50%;height:11.8pt;\" width=\"50%\"><p>2942</p></td></tr><tr style=\"height:12.5pt;\"><td style=\"border:1pt solid windowtext;padding:0.75pt;width:50%;height:12.5pt;\" width=\"50%\"><p>Skovlunde</p></td><td style=\"border:1pt solid windowtext;padding:0.75pt;width:50%;height:12.5pt;\" width=\"50%\"><p>2740</p></td></tr><tr style=\"height:12.5pt;\"><td style=\"border:1pt solid windowtext;padding:0.75pt;width:50%;height:12.5pt;\" width=\"50%\"><p>Skævinge</p></td><td style=\"border:1pt solid windowtext;padding:0.75pt;width:50%;height:12.5pt;\" width=\"50%\"><p>3320</p></td></tr><tr style=\"height:12.5pt;\"><td style=\"border:1pt solid windowtext;padding:0.75pt;width:50%;height:12.5pt;\" width=\"50%\"><p>Slangerup</p></td><td style=\"border:1pt solid windowtext;padding:0.75pt;width:50%;height:12.5pt;\" width=\"50%\"><p>3550</p></td></tr><tr style=\"height:11.8pt;\"><td style=\"border:1pt solid windowtext;padding:0.75pt;width:50%;height:11.8pt;\" width=\"50%\"><p>Smørum</p></td><td style=\"border:1pt solid windowtext;padding:0.75pt;width:50%;height:11.8pt;\" width=\"50%\"><p>2765</p></td></tr><tr style=\"height:12.5pt;\"><td style=\"border:1pt solid windowtext;padding:0.75pt;width:50%;height:12.5pt;\" width=\"50%\"><p>Snekkersten</p></td><td style=\"border:1pt solid windowtext;padding:0.75pt;width:50%;height:12.5pt;\" width=\"50%\"><p>3070</p></td></tr><tr style=\"height:12.5pt;\"><td style=\"border:1pt solid windowtext;padding:0.75pt;width:50%;height:12.5pt;\" width=\"50%\"><p>Stenløse</p></td><td style=\"border:1pt solid windowtext;padding:0.75pt;width:50%;height:12.5pt;\" width=\"50%\"><p>3660</p></td></tr><tr style=\"height:12.5pt;\"><td style=\"border:1pt solid windowtext;padding:0.75pt;width:50%;height:12.5pt;\" width=\"50%\"><p>Svaneke</p></td><td style=\"border:1pt solid windowtext;padding:0.75pt;width:50%;height:12.5pt;\" width=\"50%\"><p>3740</p></td></tr><tr style=\"height:11.8pt;\"><td style=\"border:1pt solid windowtext;padding:0.75pt;width:50%;height:11.8pt;\" width=\"50%\"><p>Søborg</p></td><td style=\"border:1pt solid windowtext;padding:0.75pt;width:50%;height:11.8pt;\" width=\"50%\"><p>2860</p></td></tr><tr style=\"height:11.8pt;\"><td style=\"border:1pt solid windowtext;padding:0.75pt;width:50%;height:11.8pt;\" width=\"50%\"><p>Taastrup</p></td><td style=\"border:1pt solid windowtext;padding:0.75pt;width:50%;height:11.8pt;\" width=\"50%\"><p>2630</p></td></tr><tr style=\"height:12.5pt;\"><td style=\"border:1pt solid windowtext;padding:0.75pt;width:50%;height:12.5pt;\" width=\"50%\"><p>Tikøb</p></td><td style=\"border:1pt solid windowtext;padding:0.75pt;width:50%;height:12.5pt;\" width=\"50%\"><p>3080</p></td></tr><tr style=\"height:12.5pt;\"><td style=\"border:1pt solid windowtext;padding:0.75pt;width:50%;height:12.5pt;\" width=\"50%\"><p>Tisvildeleje</p></td><td style=\"border:1pt solid windowtext;padding:0.75pt;width:50%;height:12.5pt;\" width=\"50%\"><p>3220</p></td></tr><tr style=\"height:11.8pt;\"><td style=\"border:1pt solid windowtext;padding:0.75pt;width:50%;height:11.8pt;\" width=\"50%\"><p>Valby</p></td><td style=\"border:1pt solid windowtext;padding:0.75pt;width:50%;height:11.8pt;\" width=\"50%\"><p>2500</p></td></tr><tr style=\"height:11.8pt;\"><td style=\"border:1pt solid windowtext;padding:0.75pt;width:50%;height:11.8pt;\" width=\"50%\"><p>Vallensbæk</p></td><td style=\"border:1pt solid windowtext;padding:0.75pt;width:50%;height:11.8pt;\" width=\"50%\"><p>2625</p></td></tr><tr style=\"height:11.8pt;\"><td style=\"border:1pt solid windowtext;padding:0.75pt;width:50%;height:11.8pt;\" width=\"50%\"><p>Vallensbæk Strand</p></td><td style=\"border:1pt solid windowtext;padding:0.75pt;width:50%;height:11.8pt;\" width=\"50%\"><p>2665</p></td></tr><tr style=\"height:11.8pt;\"><td style=\"border:1pt solid windowtext;padding:0.75pt;width:50%;height:11.8pt;\" width=\"50%\"><p>Vanløse</p></td><td style=\"border:1pt solid windowtext;padding:0.75pt;width:50%;height:11.8pt;\" width=\"50%\"><p>2720</p></td></tr><tr style=\"height:12.5pt;\"><td style=\"border:1pt solid windowtext;padding:0.75pt;width:50%;height:12.5pt;\" width=\"50%\"><p>Vedbæk</p></td><td style=\"border:1pt solid windowtext;padding:0.75pt;width:50%;height:12.5pt;\" width=\"50%\"><p>2950</p></td></tr><tr style=\"height:12.5pt;\"><td style=\"border:1pt solid windowtext;padding:0.75pt;width:50%;height:12.5pt;\" width=\"50%\"><p>Vejby</p></td><td style=\"border:1pt solid windowtext;padding:0.75pt;width:50%;height:12.5pt;\" width=\"50%\"><p>3210</p></td></tr><tr style=\"height:12.5pt;\"><td style=\"border:1pt solid windowtext;padding:0.75pt;width:50%;height:12.5pt;\" width=\"50%\"><p>Veksø Sjælland</p></td><td style=\"border:1pt solid windowtext;padding:0.75pt;width:50%;height:12.5pt;\" width=\"50%\"><p>3670</p></td></tr><tr style=\"height:11.8pt;\"><td style=\"border:1pt solid windowtext;padding:0.75pt;width:50%;height:11.8pt;\" width=\"50%\"><p>Virum</p></td><td style=\"border:1pt solid windowtext;padding:0.75pt;width:50%;height:11.8pt;\" width=\"50%\"><p>2830</p></td></tr><tr style=\"height:12.5pt;\"><td style=\"border:1pt solid windowtext;padding:0.75pt;width:50%;height:12.5pt;\" width=\"50%\"><p>Værløse</p></td><td style=\"border:1pt solid windowtext;padding:0.75pt;width:50%;height:12.5pt;\" width=\"50%\"><p>3500</p></td></tr><tr style=\"height:12.5pt;\"><td style=\"border:1pt solid windowtext;padding:0.75pt;width:50%;height:12.5pt;\" width=\"50%\"><p>Ølsted</p></td><td style=\"border:1pt solid windowtext;padding:0.75pt;width:50%;height:12.5pt;\" width=\"50%\"><p>3310</p></td></tr><tr style=\"height:12.5pt;\"><td style=\"border:1pt solid windowtext;padding:0.75pt;width:50%;height:12.5pt;\" width=\"50%\"><p>Ølstykke</p></td><td style=\"border:1pt solid windowtext;padding:0.75pt;width:50%;height:12.5pt;\" width=\"50%\"><p>3650</p></td></tr><tr style=\"height:12.5pt;\"><td style=\"border:1pt solid windowtext;padding:0.75pt;width:50%;height:12.5pt;\" width=\"50%\"><p>Østermarie</p></td><td style=\"border:1pt solid windowtext;padding:0.75pt;width:50%;height:12.5pt;\" width=\"50%\"><p>3751</p></td></tr><tr style=\"height:12.5pt;\"><td style=\"border:1pt solid windowtext;padding:0.75pt;width:50%;height:12.5pt;\" width=\"50%\"><p>Aakirkeby</p></td><td style=\"border:1pt solid windowtext;padding:0.75pt;width:50%;height:12.5pt;\" width=\"50%\"><p>3720</p></td></tr><tr style=\"height:12.5pt;\"><td style=\"border:1pt solid windowtext;padding:0.75pt;width:50%;height:12.5pt;\" width=\"50%\"><p>Ålsgårde</p></td><td style=\"border:1pt solid windowtext;padding:0.75pt;width:50%;height:12.5pt;\" width=\"50%\"><p>3140</p></td></tr></tbody></table>"
            ]
          },
          "metadata": {
            "tags": []
          }
        }
      ]
    },
    {
      "cell_type": "markdown",
      "metadata": {
        "id": "Jsr00G0kRfO6",
        "colab_type": "text"
      },
      "source": [
        "Convert the table to a Pandas DataFrame"
      ]
    },
    {
      "cell_type": "code",
      "metadata": {
        "id": "DqeeF57iOG5y",
        "colab_type": "code",
        "outputId": "21d02ef9-5689-43d8-9b31-1d03a3aca785",
        "colab": {
          "base_uri": "https://localhost:8080/",
          "height": 33
        }
      },
      "source": [
        "#accomodation of the correct decimal places\n",
        "pd.options.display.float_format = \"{:,.8f}\".format\n",
        "\n",
        "#set max with of the columns to accomodate long names\n",
        "pd.set_option('display.max_colwidth', 0)\n",
        "\n",
        "#converts into a dataframe; its like an array now \n",
        "cph = pd.read_html(tab)\n",
        "cph = cph[0]\n",
        "\n",
        "#rename the columns \n",
        "cph.columns = ['Neighborhood', 'Postal Codes']\n",
        "cph = cph.drop(index = 0 )\n",
        "cph = cph.reset_index(drop=True)\n",
        "\n",
        "\n",
        "print('Shape of the dataframe is: ', cph.shape)"
      ],
      "execution_count": 45,
      "outputs": [
        {
          "output_type": "stream",
          "text": [
            "Shape of the dataframe is:  (92, 2)\n"
          ],
          "name": "stdout"
        }
      ]
    },
    {
      "cell_type": "markdown",
      "metadata": {
        "id": "PCY0WUUOa4Rm",
        "colab_type": "text"
      },
      "source": [
        "There are 3 situations where the Postal Codes are not displayed. This is because in those Neighborhoods individual streets have different postal codes. However, after some research on the subject I found that there is in fact a unique postal code that identify each of these neighborhoods. These postal codes are: \n",
        "\n",
        "Frederiksberg C: 1874\n",
        "København K: 1050\n",
        "København V: 1653\n",
        "\n",
        "Since they are only 3 situations where this occured, I decided to change them manually"
      ]
    },
    {
      "cell_type": "code",
      "metadata": {
        "id": "57qlQGvu5hOW",
        "colab_type": "code",
        "outputId": "a393cd03-3a8b-47b1-d624-46d0634f43fd",
        "colab": {
          "base_uri": "https://localhost:8080/",
          "height": 163
        }
      },
      "source": [
        "cph.loc[16,'Postal Codes'] = 1874\n",
        "cph.loc[48,'Postal Codes'] = 1050\n",
        "cph.loc[54,'Postal Codes'] = 1650\n",
        "print (cph.loc[16])\n",
        "print (cph.loc[48])\n",
        "print (cph.loc[54])"
      ],
      "execution_count": 46,
      "outputs": [
        {
          "output_type": "stream",
          "text": [
            "Neighborhood    Frederiksberg C\n",
            "Postal Codes    1874           \n",
            "Name: 16, dtype: object\n",
            "Neighborhood    København K\n",
            "Postal Codes    1050       \n",
            "Name: 48, dtype: object\n",
            "Neighborhood    København V\n",
            "Postal Codes    1650       \n",
            "Name: 54, dtype: object\n"
          ],
          "name": "stdout"
        }
      ]
    },
    {
      "cell_type": "markdown",
      "metadata": {
        "id": "LbH7n9jwLkZ0",
        "colab_type": "text"
      },
      "source": [
        "From the current DataFrame we have values for all the neighborhoods in the whole island (or province). Most of those locations are irrelevant for our business problem as they are not located anywhere near the city. Therefore I filtered the neighborhoods that contain 'København' in their name which are the ones that we are interested in as they are the neighborhoods in the city. \n",
        "Also, I manually added a few other neighborhoods that are in close proximity to the filtered neighborhoods which could be areas of interest. "
      ]
    },
    {
      "cell_type": "code",
      "metadata": {
        "id": "UTM_QHBtKDri",
        "colab_type": "code",
        "outputId": "cd07aad3-3b34-43c2-ea04-96562473b017",
        "colab": {
          "base_uri": "https://localhost:8080/",
          "height": 191
        }
      },
      "source": [
        "selected = ['København','Frederiksberg', 'Brønshøj','Valby','Vanløse','Hellerup','Hvidovre','Dyssegård']\n",
        "cph = cph[cph['Neighborhood'].str.contains('|'.join(selected))]\n",
        "cph.head()"
      ],
      "execution_count": 47,
      "outputs": [
        {
          "output_type": "execute_result",
          "data": {
            "text/html": [
              "<div>\n",
              "<style scoped>\n",
              "    .dataframe tbody tr th:only-of-type {\n",
              "        vertical-align: middle;\n",
              "    }\n",
              "\n",
              "    .dataframe tbody tr th {\n",
              "        vertical-align: top;\n",
              "    }\n",
              "\n",
              "    .dataframe thead th {\n",
              "        text-align: right;\n",
              "    }\n",
              "</style>\n",
              "<table border=\"1\" class=\"dataframe\">\n",
              "  <thead>\n",
              "    <tr style=\"text-align: right;\">\n",
              "      <th></th>\n",
              "      <th>Neighborhood</th>\n",
              "      <th>Postal Codes</th>\n",
              "    </tr>\n",
              "  </thead>\n",
              "  <tbody>\n",
              "    <tr>\n",
              "      <th>8</th>\n",
              "      <td>Brønshøj</td>\n",
              "      <td>2700</td>\n",
              "    </tr>\n",
              "    <tr>\n",
              "      <th>12</th>\n",
              "      <td>Dyssegård</td>\n",
              "      <td>2870</td>\n",
              "    </tr>\n",
              "    <tr>\n",
              "      <th>16</th>\n",
              "      <td>Frederiksberg C</td>\n",
              "      <td>1874</td>\n",
              "    </tr>\n",
              "    <tr>\n",
              "      <th>17</th>\n",
              "      <td>Frederiksberg</td>\n",
              "      <td>2000</td>\n",
              "    </tr>\n",
              "    <tr>\n",
              "      <th>29</th>\n",
              "      <td>Hellerup</td>\n",
              "      <td>2900</td>\n",
              "    </tr>\n",
              "  </tbody>\n",
              "</table>\n",
              "</div>"
            ],
            "text/plain": [
              "       Neighborhood Postal Codes\n",
              "8   Brønshøj         2700       \n",
              "12  Dyssegård        2870       \n",
              "16  Frederiksberg C  1874       \n",
              "17  Frederiksberg    2000       \n",
              "29  Hellerup         2900       "
            ]
          },
          "metadata": {
            "tags": []
          },
          "execution_count": 47
        }
      ]
    },
    {
      "cell_type": "markdown",
      "metadata": {
        "id": "NXGgAUBVlKYq",
        "colab_type": "text"
      },
      "source": [
        "Change special characters to English counterpart (this was done due to the lack of Folium map compatibility with non-English letters)"
      ]
    },
    {
      "cell_type": "code",
      "metadata": {
        "id": "YsQ7y8DglKGZ",
        "colab_type": "code",
        "colab": {}
      },
      "source": [
        "cph['Neighborhood'] = cph['Neighborhood'].str.replace('ø','o')\n",
        "cph['Neighborhood'] = cph['Neighborhood'].str.replace('å','a')\n",
        "cph['Neighborhood'] = cph['Neighborhood'].str.replace('æ','ae')\n",
        "cph['Neighborhood'] = cph['Neighborhood'].str.replace('Ø','O')"
      ],
      "execution_count": 0,
      "outputs": []
    },
    {
      "cell_type": "markdown",
      "metadata": {
        "id": "T4OdZoUwHkiI",
        "colab_type": "text"
      },
      "source": [
        "Get the Longitude and Latitude for the city of Copenhagen. \n",
        "Here I used a function that forces the geolocator to retrieve the coordinates. "
      ]
    },
    {
      "cell_type": "code",
      "metadata": {
        "id": "j08V15MS95lx",
        "colab_type": "code",
        "outputId": "6adc0d2c-8bde-448d-b6af-84d39c87abc3",
        "colab": {
          "base_uri": "https://localhost:8080/",
          "height": 33
        }
      },
      "source": [
        "from geopy.exc import GeocoderTimedOut\n",
        "\n",
        "def do_geocode(address):\n",
        "    try:\n",
        "        return geolocator.geocode(address)\n",
        "    except GeocoderTimedOut:\n",
        "        return do_geocode(address)\n",
        "\n",
        "\n",
        "address = 'Copenhagen, Denmark'\n",
        "geolocator = Nominatim(user_agent=\"CPH_explorer\")\n",
        "location = do_geocode(address) #use the do_geocode function\n",
        "latitude = location.latitude #define variable 'latitude'\n",
        "longitude = location.longitude #define variable 'longitude'\n",
        "print('The geograpical coordinate of Copenhagen are {}, {}.'.format(latitude, longitude))"
      ],
      "execution_count": 49,
      "outputs": [
        {
          "output_type": "stream",
          "text": [
            "The geograpical coordinate of Copenhagen are 55.6867243, 12.5700724.\n"
          ],
          "name": "stdout"
        }
      ]
    },
    {
      "cell_type": "markdown",
      "metadata": {
        "id": "8WJymyVSHzjk",
        "colab_type": "text"
      },
      "source": [
        "Get the GPS coordinates for the different neighborhoods in Copenhagen"
      ]
    },
    {
      "cell_type": "code",
      "metadata": {
        "id": "qxiXkbOQIvGr",
        "colab_type": "code",
        "outputId": "210add5f-5e9a-43bf-92c6-618f4d8c0868",
        "colab": {
          "base_uri": "https://localhost:8080/",
          "height": 33
        }
      },
      "source": [
        "#initialize variable to None\n",
        "lat_lng_coords = None\n",
        "lat = []\n",
        "lng = []\n",
        "\n",
        "# loop until get the coordinates\n",
        "\n",
        "for pc in cph['Postal Codes']:\n",
        "  address = f'{pc}, Denmark'\n",
        "  location = do_geocode(address) #use the do_geocode function\n",
        "  lat.append(location.latitude) #append the latitude to the lat list\n",
        "  lng.append(location.longitude) #append the longitude to the lng list\n",
        "print(\"DONE!\")"
      ],
      "execution_count": 50,
      "outputs": [
        {
          "output_type": "stream",
          "text": [
            "DONE!\n"
          ],
          "name": "stdout"
        }
      ]
    },
    {
      "cell_type": "markdown",
      "metadata": {
        "id": "RcQQi074MWBs",
        "colab_type": "text"
      },
      "source": [
        "Add longitude and latitude to the 'cph' dataframe \n",
        "\n"
      ]
    },
    {
      "cell_type": "code",
      "metadata": {
        "id": "sdH1j79TMVmE",
        "colab_type": "code",
        "outputId": "1f62426a-8ccf-4248-cc4f-eff714362fe4",
        "colab": {
          "base_uri": "https://localhost:8080/",
          "height": 76
        }
      },
      "source": [
        "cph['Latitude'] = lat\n",
        "cph['Longitude'] = lng\n",
        "cph.head(1)"
      ],
      "execution_count": 51,
      "outputs": [
        {
          "output_type": "execute_result",
          "data": {
            "text/html": [
              "<div>\n",
              "<style scoped>\n",
              "    .dataframe tbody tr th:only-of-type {\n",
              "        vertical-align: middle;\n",
              "    }\n",
              "\n",
              "    .dataframe tbody tr th {\n",
              "        vertical-align: top;\n",
              "    }\n",
              "\n",
              "    .dataframe thead th {\n",
              "        text-align: right;\n",
              "    }\n",
              "</style>\n",
              "<table border=\"1\" class=\"dataframe\">\n",
              "  <thead>\n",
              "    <tr style=\"text-align: right;\">\n",
              "      <th></th>\n",
              "      <th>Neighborhood</th>\n",
              "      <th>Postal Codes</th>\n",
              "      <th>Latitude</th>\n",
              "      <th>Longitude</th>\n",
              "    </tr>\n",
              "  </thead>\n",
              "  <tbody>\n",
              "    <tr>\n",
              "      <th>8</th>\n",
              "      <td>Bronshoj</td>\n",
              "      <td>2700</td>\n",
              "      <td>55.70686961</td>\n",
              "      <td>12.48453613</td>\n",
              "    </tr>\n",
              "  </tbody>\n",
              "</table>\n",
              "</div>"
            ],
            "text/plain": [
              "  Neighborhood Postal Codes    Latitude   Longitude\n",
              "8  Bronshoj     2700        55.70686961 12.48453613"
            ]
          },
          "metadata": {
            "tags": []
          },
          "execution_count": 51
        }
      ]
    },
    {
      "cell_type": "markdown",
      "metadata": {
        "id": "1bp_gZOa0LBv",
        "colab_type": "text"
      },
      "source": [
        "# City Map and its Neighborhoods"
      ]
    },
    {
      "cell_type": "code",
      "metadata": {
        "id": "7XFCw2x_-Ijl",
        "colab_type": "code",
        "outputId": "342b87db-7cfa-4758-b7e2-2a7cdb343fab",
        "colab": {
          "base_uri": "https://localhost:8080/",
          "height": 1000
        }
      },
      "source": [
        "# create a map of Copenhagen\n",
        "map_cph = folium.Map(location = [latitude, longitude], zoom_start = 12)\n",
        "\n",
        "#add neighborhood markers to the Copenhagen map\n",
        "for lat, long, neigh in zip(cph['Latitude'], cph['Longitude'], \n",
        "                                 cph['Neighborhood']):\n",
        "    label = '{}'.format(neigh)\n",
        "    label = folium.Popup(label, parse_html=True)\n",
        "    folium.CircleMarker(\n",
        "        [lat, long],\n",
        "        radius = 7, \n",
        "        popup = label,\n",
        "        color = 'red',\n",
        "        fill = True,\n",
        "        fill_color = 'white',\n",
        "        fill_opacity = 0.7,\n",
        "        parse_html = False).add_to(map_cph)\n",
        "        \n",
        "map_cph #this map now has the neighborhoods info in it"
      ],
      "execution_count": 52,
      "outputs": [
        {
          "output_type": "execute_result",
          "data": {
            "text/html": [
              "<div style=\"width:100%;\"><div style=\"position:relative;width:100%;height:0;padding-bottom:60%;\"><iframe src=\"about:blank\" style=\"position:absolute;width:100%;height:100%;left:0;top:0;border:none !important;\" data-html=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 onload=\"this.contentDocument.open();this.contentDocument.write(atob(this.getAttribute('data-html')));this.contentDocument.close();\" allowfullscreen webkitallowfullscreen mozallowfullscreen></iframe></div></div>"
            ],
            "text/plain": [
              "<folium.folium.Map at 0x7fc9053e6b38>"
            ]
          },
          "metadata": {
            "tags": []
          },
          "execution_count": 52
        }
      ]
    },
    {
      "cell_type": "code",
      "metadata": {
        "id": "hR_lpXzBuJDb",
        "colab_type": "code",
        "outputId": "e04e794d-1ea0-43f1-c7f3-b57ab0f9fac9",
        "colab": {
          "base_uri": "https://localhost:8080/",
          "height": 191
        }
      },
      "source": [
        "cph.reset_index(drop=True, inplace = True)\n",
        "cph.head()"
      ],
      "execution_count": 53,
      "outputs": [
        {
          "output_type": "execute_result",
          "data": {
            "text/html": [
              "<div>\n",
              "<style scoped>\n",
              "    .dataframe tbody tr th:only-of-type {\n",
              "        vertical-align: middle;\n",
              "    }\n",
              "\n",
              "    .dataframe tbody tr th {\n",
              "        vertical-align: top;\n",
              "    }\n",
              "\n",
              "    .dataframe thead th {\n",
              "        text-align: right;\n",
              "    }\n",
              "</style>\n",
              "<table border=\"1\" class=\"dataframe\">\n",
              "  <thead>\n",
              "    <tr style=\"text-align: right;\">\n",
              "      <th></th>\n",
              "      <th>Neighborhood</th>\n",
              "      <th>Postal Codes</th>\n",
              "      <th>Latitude</th>\n",
              "      <th>Longitude</th>\n",
              "    </tr>\n",
              "  </thead>\n",
              "  <tbody>\n",
              "    <tr>\n",
              "      <th>0</th>\n",
              "      <td>Bronshoj</td>\n",
              "      <td>2700</td>\n",
              "      <td>55.70686961</td>\n",
              "      <td>12.48453613</td>\n",
              "    </tr>\n",
              "    <tr>\n",
              "      <th>1</th>\n",
              "      <td>Dyssegard</td>\n",
              "      <td>2870</td>\n",
              "      <td>55.73280743</td>\n",
              "      <td>12.52674557</td>\n",
              "    </tr>\n",
              "    <tr>\n",
              "      <th>2</th>\n",
              "      <td>Frederiksberg C</td>\n",
              "      <td>1874</td>\n",
              "      <td>55.67961226</td>\n",
              "      <td>12.54643622</td>\n",
              "    </tr>\n",
              "    <tr>\n",
              "      <th>3</th>\n",
              "      <td>Frederiksberg</td>\n",
              "      <td>2000</td>\n",
              "      <td>55.68252254</td>\n",
              "      <td>12.51788731</td>\n",
              "    </tr>\n",
              "    <tr>\n",
              "      <th>4</th>\n",
              "      <td>Hellerup</td>\n",
              "      <td>2900</td>\n",
              "      <td>55.73356381</td>\n",
              "      <td>12.56079034</td>\n",
              "    </tr>\n",
              "  </tbody>\n",
              "</table>\n",
              "</div>"
            ],
            "text/plain": [
              "      Neighborhood Postal Codes    Latitude   Longitude\n",
              "0  Bronshoj         2700        55.70686961 12.48453613\n",
              "1  Dyssegard        2870        55.73280743 12.52674557\n",
              "2  Frederiksberg C  1874        55.67961226 12.54643622\n",
              "3  Frederiksberg    2000        55.68252254 12.51788731\n",
              "4  Hellerup         2900        55.73356381 12.56079034"
            ]
          },
          "metadata": {
            "tags": []
          },
          "execution_count": 53
        }
      ]
    },
    {
      "cell_type": "markdown",
      "metadata": {
        "id": "nll2ZNQ6vvNX",
        "colab_type": "text"
      },
      "source": [
        "## City venues (FORSQUARE)\n",
        "\n",
        "In this section I have defined my Foresquare credentials, extracted the venues and prepared the data to train the Kmeans model\n",
        "\n",
        "\n",
        "\n"
      ]
    },
    {
      "cell_type": "markdown",
      "metadata": {
        "id": "IRGzIkWO1Mdg",
        "colab_type": "text"
      },
      "source": [
        "### Define the credentials & Extract the Venues"
      ]
    },
    {
      "cell_type": "code",
      "metadata": {
        "id": "QV7xAJtRvcFo",
        "colab_type": "code",
        "outputId": "a647acd9-7191-44dd-d4b3-a3fb591870ff",
        "colab": {
          "base_uri": "https://localhost:8080/",
          "height": 66
        }
      },
      "source": [
        "#CREDENTIALS\n",
        "CLIENT_ID = 'HGPL2RSCD2SABQHQMMCCDRR01XKEINXOJMKUQTUPPGL4PYVC' # your Foursquare ID\n",
        "CLIENT_SECRET = 'JQF35RMFJHTP5U2TL5V2NWDO21MQ1XNFQ5XPGOWIJ4N5P2VW' # your Foursquare Secret\n",
        "VERSION = '20180605' # Foursquare API version\n",
        "\n",
        "print('Your credentails:')\n",
        "print('CLIENT_ID: ' + CLIENT_ID)\n",
        "print('CLIENT_SECRET:' + CLIENT_SECRET)"
      ],
      "execution_count": 54,
      "outputs": [
        {
          "output_type": "stream",
          "text": [
            "Your credentails:\n",
            "CLIENT_ID: HGPL2RSCD2SABQHQMMCCDRR01XKEINXOJMKUQTUPPGL4PYVC\n",
            "CLIENT_SECRET:JQF35RMFJHTP5U2TL5V2NWDO21MQ1XNFQ5XPGOWIJ4N5P2VW\n"
          ],
          "name": "stdout"
        }
      ]
    },
    {
      "cell_type": "markdown",
      "metadata": {
        "id": "VC6x08HtyUIe",
        "colab_type": "text"
      },
      "source": [
        "Function to extract Venues:"
      ]
    },
    {
      "cell_type": "code",
      "metadata": {
        "id": "15bgCtFavAef",
        "colab_type": "code",
        "colab": {}
      },
      "source": [
        "def getNearbyVenues(names, latitudes, longitudes, radius=500):\n",
        "    \n",
        "    venues_list=[]\n",
        "    for name, lat, lng in zip(names, latitudes, longitudes):\n",
        "        print(name)\n",
        "            \n",
        "        # create the API request URL\n",
        "        url = 'https://api.foursquare.com/v2/venues/explore?&client_id={}&client_secret={}&v={}&ll={},{}&radius={}&limit={}'.format(\n",
        "            CLIENT_ID, \n",
        "            CLIENT_SECRET, \n",
        "            VERSION, \n",
        "            lat, \n",
        "            lng, \n",
        "            radius, \n",
        "            LIMIT)\n",
        "            \n",
        "        # make the GET request\n",
        "        results = requests.get(url).json()[\"response\"]['groups'][0]['items']\n",
        "        \n",
        "        # return only relevant information for each nearby venue\n",
        "        venues_list.append([(\n",
        "            name, \n",
        "            lat, \n",
        "            lng, \n",
        "            v['venue']['name'], \n",
        "            v['venue']['location']['lat'], \n",
        "            v['venue']['location']['lng'],  \n",
        "            v['venue']['categories'][0]['name']) for v in results])\n",
        "\n",
        "    nearby_venues = pd.DataFrame([item for venue_list in venues_list for item in venue_list])\n",
        "    nearby_venues.columns = ['Neighborhood', \n",
        "                  'Neighborhood Latitude', \n",
        "                  'Neighborhood Longitude', \n",
        "                  'Venue', \n",
        "                  'Venue Latitude', \n",
        "                  'Venue Longitude', \n",
        "                  'Venue Category']\n",
        "    \n",
        "    return(nearby_venues)"
      ],
      "execution_count": 0,
      "outputs": []
    },
    {
      "cell_type": "code",
      "metadata": {
        "id": "GCzvEOg6xIFh",
        "colab_type": "code",
        "outputId": "b4b080f2-5617-418d-fe93-bc25fc66a946",
        "colab": {
          "base_uri": "https://localhost:8080/",
          "height": 261
        }
      },
      "source": [
        "LIMIT = 200\n",
        "\n",
        "cph_venues = getNearbyVenues(names=cph['Neighborhood'],\n",
        "                                   latitudes=cph['Latitude'],\n",
        "                                   longitudes=cph['Longitude']\n",
        "                                  )"
      ],
      "execution_count": 56,
      "outputs": [
        {
          "output_type": "stream",
          "text": [
            "Bronshoj\n",
            "Dyssegard\n",
            "Frederiksberg C\n",
            "Frederiksberg\n",
            "Hellerup\n",
            "Hvidovre\n",
            "Kobenhavn K\n",
            "Kobenhavn N\n",
            "Kobenhavn NV\n",
            "Kobenhavn S\n",
            "Kobenhavn SV\n",
            "Kobenhavn O\n",
            "Kobenhavn V\n",
            "Valby\n",
            "Vanlose\n"
          ],
          "name": "stdout"
        }
      ]
    },
    {
      "cell_type": "code",
      "metadata": {
        "id": "qHmVLnHTyg_v",
        "colab_type": "code",
        "outputId": "4cf12ae5-3106-4493-ab07-ebba514fe133",
        "colab": {
          "base_uri": "https://localhost:8080/",
          "height": 207
        }
      },
      "source": [
        "print(cph_venues.shape)\n",
        "cph_venues.head()"
      ],
      "execution_count": 57,
      "outputs": [
        {
          "output_type": "stream",
          "text": [
            "(480, 7)\n"
          ],
          "name": "stdout"
        },
        {
          "output_type": "execute_result",
          "data": {
            "text/html": [
              "<div>\n",
              "<style scoped>\n",
              "    .dataframe tbody tr th:only-of-type {\n",
              "        vertical-align: middle;\n",
              "    }\n",
              "\n",
              "    .dataframe tbody tr th {\n",
              "        vertical-align: top;\n",
              "    }\n",
              "\n",
              "    .dataframe thead th {\n",
              "        text-align: right;\n",
              "    }\n",
              "</style>\n",
              "<table border=\"1\" class=\"dataframe\">\n",
              "  <thead>\n",
              "    <tr style=\"text-align: right;\">\n",
              "      <th></th>\n",
              "      <th>Neighborhood</th>\n",
              "      <th>Neighborhood Latitude</th>\n",
              "      <th>Neighborhood Longitude</th>\n",
              "      <th>Venue</th>\n",
              "      <th>Venue Latitude</th>\n",
              "      <th>Venue Longitude</th>\n",
              "      <th>Venue Category</th>\n",
              "    </tr>\n",
              "  </thead>\n",
              "  <tbody>\n",
              "    <tr>\n",
              "      <th>0</th>\n",
              "      <td>Bronshoj</td>\n",
              "      <td>55.70686961</td>\n",
              "      <td>12.48453613</td>\n",
              "      <td>Edderkop Legepladsen</td>\n",
              "      <td>55.70931393</td>\n",
              "      <td>12.48763951</td>\n",
              "      <td>Playground</td>\n",
              "    </tr>\n",
              "    <tr>\n",
              "      <th>1</th>\n",
              "      <td>Bronshoj</td>\n",
              "      <td>55.70686961</td>\n",
              "      <td>12.48453613</td>\n",
              "      <td>Fakta ved Søholm</td>\n",
              "      <td>55.70584501</td>\n",
              "      <td>12.49098465</td>\n",
              "      <td>Supermarket</td>\n",
              "    </tr>\n",
              "    <tr>\n",
              "      <th>2</th>\n",
              "      <td>Bronshoj</td>\n",
              "      <td>55.70686961</td>\n",
              "      <td>12.48453613</td>\n",
              "      <td>Fitness World</td>\n",
              "      <td>55.70942040</td>\n",
              "      <td>12.48113736</td>\n",
              "      <td>Gym / Fitness Center</td>\n",
              "    </tr>\n",
              "    <tr>\n",
              "      <th>3</th>\n",
              "      <td>Bronshoj</td>\n",
              "      <td>55.70686961</td>\n",
              "      <td>12.48453613</td>\n",
              "      <td>Netto</td>\n",
              "      <td>55.70566334</td>\n",
              "      <td>12.49214849</td>\n",
              "      <td>Grocery Store</td>\n",
              "    </tr>\n",
              "    <tr>\n",
              "      <th>4</th>\n",
              "      <td>Bronshoj</td>\n",
              "      <td>55.70686961</td>\n",
              "      <td>12.48453613</td>\n",
              "      <td>Netto</td>\n",
              "      <td>55.70835658</td>\n",
              "      <td>12.48324659</td>\n",
              "      <td>Grocery Store</td>\n",
              "    </tr>\n",
              "  </tbody>\n",
              "</table>\n",
              "</div>"
            ],
            "text/plain": [
              "  Neighborhood  Neighborhood Latitude  ...  Venue Longitude        Venue Category\n",
              "0  Bronshoj    55.70686961             ... 12.48763951       Playground          \n",
              "1  Bronshoj    55.70686961             ... 12.49098465       Supermarket         \n",
              "2  Bronshoj    55.70686961             ... 12.48113736       Gym / Fitness Center\n",
              "3  Bronshoj    55.70686961             ... 12.49214849       Grocery Store       \n",
              "4  Bronshoj    55.70686961             ... 12.48324659       Grocery Store       \n",
              "\n",
              "[5 rows x 7 columns]"
            ]
          },
          "metadata": {
            "tags": []
          },
          "execution_count": 57
        }
      ]
    },
    {
      "cell_type": "markdown",
      "metadata": {
        "id": "ZpyRDybCzSqO",
        "colab_type": "text"
      },
      "source": [
        "Check how many Venues were returned in each 'Neighborhood'"
      ]
    },
    {
      "cell_type": "code",
      "metadata": {
        "id": "JPtuiKFzy2s2",
        "colab_type": "code",
        "outputId": "cea9e084-854d-42fb-b4b1-a391277a6173",
        "colab": {
          "base_uri": "https://localhost:8080/",
          "height": 507
        }
      },
      "source": [
        "cph_venues.groupby('Neighborhood').count()"
      ],
      "execution_count": 58,
      "outputs": [
        {
          "output_type": "execute_result",
          "data": {
            "text/html": [
              "<div>\n",
              "<style scoped>\n",
              "    .dataframe tbody tr th:only-of-type {\n",
              "        vertical-align: middle;\n",
              "    }\n",
              "\n",
              "    .dataframe tbody tr th {\n",
              "        vertical-align: top;\n",
              "    }\n",
              "\n",
              "    .dataframe thead th {\n",
              "        text-align: right;\n",
              "    }\n",
              "</style>\n",
              "<table border=\"1\" class=\"dataframe\">\n",
              "  <thead>\n",
              "    <tr style=\"text-align: right;\">\n",
              "      <th></th>\n",
              "      <th>Neighborhood Latitude</th>\n",
              "      <th>Neighborhood Longitude</th>\n",
              "      <th>Venue</th>\n",
              "      <th>Venue Latitude</th>\n",
              "      <th>Venue Longitude</th>\n",
              "      <th>Venue Category</th>\n",
              "    </tr>\n",
              "    <tr>\n",
              "      <th>Neighborhood</th>\n",
              "      <th></th>\n",
              "      <th></th>\n",
              "      <th></th>\n",
              "      <th></th>\n",
              "      <th></th>\n",
              "      <th></th>\n",
              "    </tr>\n",
              "  </thead>\n",
              "  <tbody>\n",
              "    <tr>\n",
              "      <th>Bronshoj</th>\n",
              "      <td>9</td>\n",
              "      <td>9</td>\n",
              "      <td>9</td>\n",
              "      <td>9</td>\n",
              "      <td>9</td>\n",
              "      <td>9</td>\n",
              "    </tr>\n",
              "    <tr>\n",
              "      <th>Dyssegard</th>\n",
              "      <td>7</td>\n",
              "      <td>7</td>\n",
              "      <td>7</td>\n",
              "      <td>7</td>\n",
              "      <td>7</td>\n",
              "      <td>7</td>\n",
              "    </tr>\n",
              "    <tr>\n",
              "      <th>Frederiksberg</th>\n",
              "      <td>27</td>\n",
              "      <td>27</td>\n",
              "      <td>27</td>\n",
              "      <td>27</td>\n",
              "      <td>27</td>\n",
              "      <td>27</td>\n",
              "    </tr>\n",
              "    <tr>\n",
              "      <th>Frederiksberg C</th>\n",
              "      <td>22</td>\n",
              "      <td>22</td>\n",
              "      <td>22</td>\n",
              "      <td>22</td>\n",
              "      <td>22</td>\n",
              "      <td>22</td>\n",
              "    </tr>\n",
              "    <tr>\n",
              "      <th>Hellerup</th>\n",
              "      <td>9</td>\n",
              "      <td>9</td>\n",
              "      <td>9</td>\n",
              "      <td>9</td>\n",
              "      <td>9</td>\n",
              "      <td>9</td>\n",
              "    </tr>\n",
              "    <tr>\n",
              "      <th>Hvidovre</th>\n",
              "      <td>3</td>\n",
              "      <td>3</td>\n",
              "      <td>3</td>\n",
              "      <td>3</td>\n",
              "      <td>3</td>\n",
              "      <td>3</td>\n",
              "    </tr>\n",
              "    <tr>\n",
              "      <th>Kobenhavn K</th>\n",
              "      <td>100</td>\n",
              "      <td>100</td>\n",
              "      <td>100</td>\n",
              "      <td>100</td>\n",
              "      <td>100</td>\n",
              "      <td>100</td>\n",
              "    </tr>\n",
              "    <tr>\n",
              "      <th>Kobenhavn N</th>\n",
              "      <td>89</td>\n",
              "      <td>89</td>\n",
              "      <td>89</td>\n",
              "      <td>89</td>\n",
              "      <td>89</td>\n",
              "      <td>89</td>\n",
              "    </tr>\n",
              "    <tr>\n",
              "      <th>Kobenhavn NV</th>\n",
              "      <td>22</td>\n",
              "      <td>22</td>\n",
              "      <td>22</td>\n",
              "      <td>22</td>\n",
              "      <td>22</td>\n",
              "      <td>22</td>\n",
              "    </tr>\n",
              "    <tr>\n",
              "      <th>Kobenhavn O</th>\n",
              "      <td>40</td>\n",
              "      <td>40</td>\n",
              "      <td>40</td>\n",
              "      <td>40</td>\n",
              "      <td>40</td>\n",
              "      <td>40</td>\n",
              "    </tr>\n",
              "    <tr>\n",
              "      <th>Kobenhavn S</th>\n",
              "      <td>4</td>\n",
              "      <td>4</td>\n",
              "      <td>4</td>\n",
              "      <td>4</td>\n",
              "      <td>4</td>\n",
              "      <td>4</td>\n",
              "    </tr>\n",
              "    <tr>\n",
              "      <th>Kobenhavn SV</th>\n",
              "      <td>11</td>\n",
              "      <td>11</td>\n",
              "      <td>11</td>\n",
              "      <td>11</td>\n",
              "      <td>11</td>\n",
              "      <td>11</td>\n",
              "    </tr>\n",
              "    <tr>\n",
              "      <th>Kobenhavn V</th>\n",
              "      <td>100</td>\n",
              "      <td>100</td>\n",
              "      <td>100</td>\n",
              "      <td>100</td>\n",
              "      <td>100</td>\n",
              "      <td>100</td>\n",
              "    </tr>\n",
              "    <tr>\n",
              "      <th>Valby</th>\n",
              "      <td>4</td>\n",
              "      <td>4</td>\n",
              "      <td>4</td>\n",
              "      <td>4</td>\n",
              "      <td>4</td>\n",
              "      <td>4</td>\n",
              "    </tr>\n",
              "    <tr>\n",
              "      <th>Vanlose</th>\n",
              "      <td>33</td>\n",
              "      <td>33</td>\n",
              "      <td>33</td>\n",
              "      <td>33</td>\n",
              "      <td>33</td>\n",
              "      <td>33</td>\n",
              "    </tr>\n",
              "  </tbody>\n",
              "</table>\n",
              "</div>"
            ],
            "text/plain": [
              "                 Neighborhood Latitude  ...  Venue Category\n",
              "Neighborhood                            ...                \n",
              "Bronshoj         9                      ...  9             \n",
              "Dyssegard        7                      ...  7             \n",
              "Frederiksberg    27                     ...  27            \n",
              "Frederiksberg C  22                     ...  22            \n",
              "Hellerup         9                      ...  9             \n",
              "Hvidovre         3                      ...  3             \n",
              "Kobenhavn K      100                    ...  100           \n",
              "Kobenhavn N      89                     ...  89            \n",
              "Kobenhavn NV     22                     ...  22            \n",
              "Kobenhavn O      40                     ...  40            \n",
              "Kobenhavn S      4                      ...  4             \n",
              "Kobenhavn SV     11                     ...  11            \n",
              "Kobenhavn V      100                    ...  100           \n",
              "Valby            4                      ...  4             \n",
              "Vanlose          33                     ...  33            \n",
              "\n",
              "[15 rows x 6 columns]"
            ]
          },
          "metadata": {
            "tags": []
          },
          "execution_count": 58
        }
      ]
    },
    {
      "cell_type": "markdown",
      "metadata": {
        "id": "VFO-AgIAzjAx",
        "colab_type": "text"
      },
      "source": [
        "Find how many unique categories"
      ]
    },
    {
      "cell_type": "code",
      "metadata": {
        "id": "x4Y6POggzYBK",
        "colab_type": "code",
        "outputId": "943a07c3-d096-4756-90fc-6a47e38dfa99",
        "colab": {
          "base_uri": "https://localhost:8080/",
          "height": 33
        }
      },
      "source": [
        "print('There are {} uniques categories.'.format(len(cph_venues['Venue Category'].unique())))"
      ],
      "execution_count": 59,
      "outputs": [
        {
          "output_type": "stream",
          "text": [
            "There are 133 uniques categories.\n"
          ],
          "name": "stdout"
        }
      ]
    },
    {
      "cell_type": "markdown",
      "metadata": {
        "id": "7dBpDYdYzx_l",
        "colab_type": "text"
      },
      "source": [
        "### One-Hot-Encoding of the venues cateogories"
      ]
    },
    {
      "cell_type": "code",
      "metadata": {
        "id": "hfSTLsNezmWD",
        "colab_type": "code",
        "outputId": "e05519f6-1f50-45d7-f786-56059140f38e",
        "colab": {
          "base_uri": "https://localhost:8080/",
          "height": 271
        }
      },
      "source": [
        "# one hot encoding\n",
        "cph_onehot = pd.get_dummies(cph_venues[['Venue Category']], prefix=\"\", prefix_sep=\"\")\n",
        "\n",
        "# add neighborhood column back to dataframe\n",
        "cph_onehot['Neighborhood'] = cph_venues['Neighborhood'] \n",
        "\n",
        "# move neighborhood column to the first column\n",
        "fixed_columns = [cph_onehot.columns[-1]] + list(cph_onehot.columns[:-1])\n",
        "cph_onehot = cph_onehot[fixed_columns]\n",
        "\n",
        "cph_onehot.head()"
      ],
      "execution_count": 60,
      "outputs": [
        {
          "output_type": "execute_result",
          "data": {
            "text/html": [
              "<div>\n",
              "<style scoped>\n",
              "    .dataframe tbody tr th:only-of-type {\n",
              "        vertical-align: middle;\n",
              "    }\n",
              "\n",
              "    .dataframe tbody tr th {\n",
              "        vertical-align: top;\n",
              "    }\n",
              "\n",
              "    .dataframe thead th {\n",
              "        text-align: right;\n",
              "    }\n",
              "</style>\n",
              "<table border=\"1\" class=\"dataframe\">\n",
              "  <thead>\n",
              "    <tr style=\"text-align: right;\">\n",
              "      <th></th>\n",
              "      <th>Neighborhood</th>\n",
              "      <th>Art Gallery</th>\n",
              "      <th>Art Museum</th>\n",
              "      <th>Arts &amp; Crafts Store</th>\n",
              "      <th>Arts &amp; Entertainment</th>\n",
              "      <th>Asian Restaurant</th>\n",
              "      <th>BBQ Joint</th>\n",
              "      <th>Bagel Shop</th>\n",
              "      <th>Bakery</th>\n",
              "      <th>Bar</th>\n",
              "      <th>Beer Bar</th>\n",
              "      <th>Beer Garden</th>\n",
              "      <th>Beer Store</th>\n",
              "      <th>Bistro</th>\n",
              "      <th>Bookstore</th>\n",
              "      <th>Boutique</th>\n",
              "      <th>Breakfast Spot</th>\n",
              "      <th>Brewery</th>\n",
              "      <th>Burger Joint</th>\n",
              "      <th>Bus Station</th>\n",
              "      <th>Butcher</th>\n",
              "      <th>Café</th>\n",
              "      <th>Candy Store</th>\n",
              "      <th>Cemetery</th>\n",
              "      <th>Chocolate Shop</th>\n",
              "      <th>Clothing Store</th>\n",
              "      <th>Cocktail Bar</th>\n",
              "      <th>Coffee Shop</th>\n",
              "      <th>Comfort Food Restaurant</th>\n",
              "      <th>Construction &amp; Landscaping</th>\n",
              "      <th>Convenience Store</th>\n",
              "      <th>Cupcake Shop</th>\n",
              "      <th>Dance Studio</th>\n",
              "      <th>Deli / Bodega</th>\n",
              "      <th>Department Store</th>\n",
              "      <th>Dessert Shop</th>\n",
              "      <th>Diner</th>\n",
              "      <th>Discount Store</th>\n",
              "      <th>Dive Bar</th>\n",
              "      <th>Electronics Store</th>\n",
              "      <th>...</th>\n",
              "      <th>Playground</th>\n",
              "      <th>Plaza</th>\n",
              "      <th>Pub</th>\n",
              "      <th>Record Shop</th>\n",
              "      <th>Restaurant</th>\n",
              "      <th>Roof Deck</th>\n",
              "      <th>Salad Place</th>\n",
              "      <th>Salon / Barbershop</th>\n",
              "      <th>Sandwich Place</th>\n",
              "      <th>Scandinavian Restaurant</th>\n",
              "      <th>Seafood Restaurant</th>\n",
              "      <th>Shoe Store</th>\n",
              "      <th>Shopping Mall</th>\n",
              "      <th>Soccer Stadium</th>\n",
              "      <th>South American Restaurant</th>\n",
              "      <th>South Indian Restaurant</th>\n",
              "      <th>Spa</th>\n",
              "      <th>Speakeasy</th>\n",
              "      <th>Sporting Goods Shop</th>\n",
              "      <th>Sports Bar</th>\n",
              "      <th>Stadium</th>\n",
              "      <th>Steakhouse</th>\n",
              "      <th>Supermarket</th>\n",
              "      <th>Sushi Restaurant</th>\n",
              "      <th>Szechuan Restaurant</th>\n",
              "      <th>Taco Place</th>\n",
              "      <th>Tapas Restaurant</th>\n",
              "      <th>Tea Room</th>\n",
              "      <th>Tech Startup</th>\n",
              "      <th>Thai Restaurant</th>\n",
              "      <th>Theater</th>\n",
              "      <th>Track</th>\n",
              "      <th>Train Station</th>\n",
              "      <th>Turkish Restaurant</th>\n",
              "      <th>University</th>\n",
              "      <th>Vegetarian / Vegan Restaurant</th>\n",
              "      <th>Vietnamese Restaurant</th>\n",
              "      <th>Wine Bar</th>\n",
              "      <th>Wine Shop</th>\n",
              "      <th>Yoga Studio</th>\n",
              "    </tr>\n",
              "  </thead>\n",
              "  <tbody>\n",
              "    <tr>\n",
              "      <th>0</th>\n",
              "      <td>Bronshoj</td>\n",
              "      <td>0</td>\n",
              "      <td>0</td>\n",
              "      <td>0</td>\n",
              "      <td>0</td>\n",
              "      <td>0</td>\n",
              "      <td>0</td>\n",
              "      <td>0</td>\n",
              "      <td>0</td>\n",
              "      <td>0</td>\n",
              "      <td>0</td>\n",
              "      <td>0</td>\n",
              "      <td>0</td>\n",
              "      <td>0</td>\n",
              "      <td>0</td>\n",
              "      <td>0</td>\n",
              "      <td>0</td>\n",
              "      <td>0</td>\n",
              "      <td>0</td>\n",
              "      <td>0</td>\n",
              "      <td>0</td>\n",
              "      <td>0</td>\n",
              "      <td>0</td>\n",
              "      <td>0</td>\n",
              "      <td>0</td>\n",
              "      <td>0</td>\n",
              "      <td>0</td>\n",
              "      <td>0</td>\n",
              "      <td>0</td>\n",
              "      <td>0</td>\n",
              "      <td>0</td>\n",
              "      <td>0</td>\n",
              "      <td>0</td>\n",
              "      <td>0</td>\n",
              "      <td>0</td>\n",
              "      <td>0</td>\n",
              "      <td>0</td>\n",
              "      <td>0</td>\n",
              "      <td>0</td>\n",
              "      <td>0</td>\n",
              "      <td>...</td>\n",
              "      <td>1</td>\n",
              "      <td>0</td>\n",
              "      <td>0</td>\n",
              "      <td>0</td>\n",
              "      <td>0</td>\n",
              "      <td>0</td>\n",
              "      <td>0</td>\n",
              "      <td>0</td>\n",
              "      <td>0</td>\n",
              "      <td>0</td>\n",
              "      <td>0</td>\n",
              "      <td>0</td>\n",
              "      <td>0</td>\n",
              "      <td>0</td>\n",
              "      <td>0</td>\n",
              "      <td>0</td>\n",
              "      <td>0</td>\n",
              "      <td>0</td>\n",
              "      <td>0</td>\n",
              "      <td>0</td>\n",
              "      <td>0</td>\n",
              "      <td>0</td>\n",
              "      <td>0</td>\n",
              "      <td>0</td>\n",
              "      <td>0</td>\n",
              "      <td>0</td>\n",
              "      <td>0</td>\n",
              "      <td>0</td>\n",
              "      <td>0</td>\n",
              "      <td>0</td>\n",
              "      <td>0</td>\n",
              "      <td>0</td>\n",
              "      <td>0</td>\n",
              "      <td>0</td>\n",
              "      <td>0</td>\n",
              "      <td>0</td>\n",
              "      <td>0</td>\n",
              "      <td>0</td>\n",
              "      <td>0</td>\n",
              "      <td>0</td>\n",
              "    </tr>\n",
              "    <tr>\n",
              "      <th>1</th>\n",
              "      <td>Bronshoj</td>\n",
              "      <td>0</td>\n",
              "      <td>0</td>\n",
              "      <td>0</td>\n",
              "      <td>0</td>\n",
              "      <td>0</td>\n",
              "      <td>0</td>\n",
              "      <td>0</td>\n",
              "      <td>0</td>\n",
              "      <td>0</td>\n",
              "      <td>0</td>\n",
              "      <td>0</td>\n",
              "      <td>0</td>\n",
              "      <td>0</td>\n",
              "      <td>0</td>\n",
              "      <td>0</td>\n",
              "      <td>0</td>\n",
              "      <td>0</td>\n",
              "      <td>0</td>\n",
              "      <td>0</td>\n",
              "      <td>0</td>\n",
              "      <td>0</td>\n",
              "      <td>0</td>\n",
              "      <td>0</td>\n",
              "      <td>0</td>\n",
              "      <td>0</td>\n",
              "      <td>0</td>\n",
              "      <td>0</td>\n",
              "      <td>0</td>\n",
              "      <td>0</td>\n",
              "      <td>0</td>\n",
              "      <td>0</td>\n",
              "      <td>0</td>\n",
              "      <td>0</td>\n",
              "      <td>0</td>\n",
              "      <td>0</td>\n",
              "      <td>0</td>\n",
              "      <td>0</td>\n",
              "      <td>0</td>\n",
              "      <td>0</td>\n",
              "      <td>...</td>\n",
              "      <td>0</td>\n",
              "      <td>0</td>\n",
              "      <td>0</td>\n",
              "      <td>0</td>\n",
              "      <td>0</td>\n",
              "      <td>0</td>\n",
              "      <td>0</td>\n",
              "      <td>0</td>\n",
              "      <td>0</td>\n",
              "      <td>0</td>\n",
              "      <td>0</td>\n",
              "      <td>0</td>\n",
              "      <td>0</td>\n",
              "      <td>0</td>\n",
              "      <td>0</td>\n",
              "      <td>0</td>\n",
              "      <td>0</td>\n",
              "      <td>0</td>\n",
              "      <td>0</td>\n",
              "      <td>0</td>\n",
              "      <td>0</td>\n",
              "      <td>0</td>\n",
              "      <td>1</td>\n",
              "      <td>0</td>\n",
              "      <td>0</td>\n",
              "      <td>0</td>\n",
              "      <td>0</td>\n",
              "      <td>0</td>\n",
              "      <td>0</td>\n",
              "      <td>0</td>\n",
              "      <td>0</td>\n",
              "      <td>0</td>\n",
              "      <td>0</td>\n",
              "      <td>0</td>\n",
              "      <td>0</td>\n",
              "      <td>0</td>\n",
              "      <td>0</td>\n",
              "      <td>0</td>\n",
              "      <td>0</td>\n",
              "      <td>0</td>\n",
              "    </tr>\n",
              "    <tr>\n",
              "      <th>2</th>\n",
              "      <td>Bronshoj</td>\n",
              "      <td>0</td>\n",
              "      <td>0</td>\n",
              "      <td>0</td>\n",
              "      <td>0</td>\n",
              "      <td>0</td>\n",
              "      <td>0</td>\n",
              "      <td>0</td>\n",
              "      <td>0</td>\n",
              "      <td>0</td>\n",
              "      <td>0</td>\n",
              "      <td>0</td>\n",
              "      <td>0</td>\n",
              "      <td>0</td>\n",
              "      <td>0</td>\n",
              "      <td>0</td>\n",
              "      <td>0</td>\n",
              "      <td>0</td>\n",
              "      <td>0</td>\n",
              "      <td>0</td>\n",
              "      <td>0</td>\n",
              "      <td>0</td>\n",
              "      <td>0</td>\n",
              "      <td>0</td>\n",
              "      <td>0</td>\n",
              "      <td>0</td>\n",
              "      <td>0</td>\n",
              "      <td>0</td>\n",
              "      <td>0</td>\n",
              "      <td>0</td>\n",
              "      <td>0</td>\n",
              "      <td>0</td>\n",
              "      <td>0</td>\n",
              "      <td>0</td>\n",
              "      <td>0</td>\n",
              "      <td>0</td>\n",
              "      <td>0</td>\n",
              "      <td>0</td>\n",
              "      <td>0</td>\n",
              "      <td>0</td>\n",
              "      <td>...</td>\n",
              "      <td>0</td>\n",
              "      <td>0</td>\n",
              "      <td>0</td>\n",
              "      <td>0</td>\n",
              "      <td>0</td>\n",
              "      <td>0</td>\n",
              "      <td>0</td>\n",
              "      <td>0</td>\n",
              "      <td>0</td>\n",
              "      <td>0</td>\n",
              "      <td>0</td>\n",
              "      <td>0</td>\n",
              "      <td>0</td>\n",
              "      <td>0</td>\n",
              "      <td>0</td>\n",
              "      <td>0</td>\n",
              "      <td>0</td>\n",
              "      <td>0</td>\n",
              "      <td>0</td>\n",
              "      <td>0</td>\n",
              "      <td>0</td>\n",
              "      <td>0</td>\n",
              "      <td>0</td>\n",
              "      <td>0</td>\n",
              "      <td>0</td>\n",
              "      <td>0</td>\n",
              "      <td>0</td>\n",
              "      <td>0</td>\n",
              "      <td>0</td>\n",
              "      <td>0</td>\n",
              "      <td>0</td>\n",
              "      <td>0</td>\n",
              "      <td>0</td>\n",
              "      <td>0</td>\n",
              "      <td>0</td>\n",
              "      <td>0</td>\n",
              "      <td>0</td>\n",
              "      <td>0</td>\n",
              "      <td>0</td>\n",
              "      <td>0</td>\n",
              "    </tr>\n",
              "    <tr>\n",
              "      <th>3</th>\n",
              "      <td>Bronshoj</td>\n",
              "      <td>0</td>\n",
              "      <td>0</td>\n",
              "      <td>0</td>\n",
              "      <td>0</td>\n",
              "      <td>0</td>\n",
              "      <td>0</td>\n",
              "      <td>0</td>\n",
              "      <td>0</td>\n",
              "      <td>0</td>\n",
              "      <td>0</td>\n",
              "      <td>0</td>\n",
              "      <td>0</td>\n",
              "      <td>0</td>\n",
              "      <td>0</td>\n",
              "      <td>0</td>\n",
              "      <td>0</td>\n",
              "      <td>0</td>\n",
              "      <td>0</td>\n",
              "      <td>0</td>\n",
              "      <td>0</td>\n",
              "      <td>0</td>\n",
              "      <td>0</td>\n",
              "      <td>0</td>\n",
              "      <td>0</td>\n",
              "      <td>0</td>\n",
              "      <td>0</td>\n",
              "      <td>0</td>\n",
              "      <td>0</td>\n",
              "      <td>0</td>\n",
              "      <td>0</td>\n",
              "      <td>0</td>\n",
              "      <td>0</td>\n",
              "      <td>0</td>\n",
              "      <td>0</td>\n",
              "      <td>0</td>\n",
              "      <td>0</td>\n",
              "      <td>0</td>\n",
              "      <td>0</td>\n",
              "      <td>0</td>\n",
              "      <td>...</td>\n",
              "      <td>0</td>\n",
              "      <td>0</td>\n",
              "      <td>0</td>\n",
              "      <td>0</td>\n",
              "      <td>0</td>\n",
              "      <td>0</td>\n",
              "      <td>0</td>\n",
              "      <td>0</td>\n",
              "      <td>0</td>\n",
              "      <td>0</td>\n",
              "      <td>0</td>\n",
              "      <td>0</td>\n",
              "      <td>0</td>\n",
              "      <td>0</td>\n",
              "      <td>0</td>\n",
              "      <td>0</td>\n",
              "      <td>0</td>\n",
              "      <td>0</td>\n",
              "      <td>0</td>\n",
              "      <td>0</td>\n",
              "      <td>0</td>\n",
              "      <td>0</td>\n",
              "      <td>0</td>\n",
              "      <td>0</td>\n",
              "      <td>0</td>\n",
              "      <td>0</td>\n",
              "      <td>0</td>\n",
              "      <td>0</td>\n",
              "      <td>0</td>\n",
              "      <td>0</td>\n",
              "      <td>0</td>\n",
              "      <td>0</td>\n",
              "      <td>0</td>\n",
              "      <td>0</td>\n",
              "      <td>0</td>\n",
              "      <td>0</td>\n",
              "      <td>0</td>\n",
              "      <td>0</td>\n",
              "      <td>0</td>\n",
              "      <td>0</td>\n",
              "    </tr>\n",
              "    <tr>\n",
              "      <th>4</th>\n",
              "      <td>Bronshoj</td>\n",
              "      <td>0</td>\n",
              "      <td>0</td>\n",
              "      <td>0</td>\n",
              "      <td>0</td>\n",
              "      <td>0</td>\n",
              "      <td>0</td>\n",
              "      <td>0</td>\n",
              "      <td>0</td>\n",
              "      <td>0</td>\n",
              "      <td>0</td>\n",
              "      <td>0</td>\n",
              "      <td>0</td>\n",
              "      <td>0</td>\n",
              "      <td>0</td>\n",
              "      <td>0</td>\n",
              "      <td>0</td>\n",
              "      <td>0</td>\n",
              "      <td>0</td>\n",
              "      <td>0</td>\n",
              "      <td>0</td>\n",
              "      <td>0</td>\n",
              "      <td>0</td>\n",
              "      <td>0</td>\n",
              "      <td>0</td>\n",
              "      <td>0</td>\n",
              "      <td>0</td>\n",
              "      <td>0</td>\n",
              "      <td>0</td>\n",
              "      <td>0</td>\n",
              "      <td>0</td>\n",
              "      <td>0</td>\n",
              "      <td>0</td>\n",
              "      <td>0</td>\n",
              "      <td>0</td>\n",
              "      <td>0</td>\n",
              "      <td>0</td>\n",
              "      <td>0</td>\n",
              "      <td>0</td>\n",
              "      <td>0</td>\n",
              "      <td>...</td>\n",
              "      <td>0</td>\n",
              "      <td>0</td>\n",
              "      <td>0</td>\n",
              "      <td>0</td>\n",
              "      <td>0</td>\n",
              "      <td>0</td>\n",
              "      <td>0</td>\n",
              "      <td>0</td>\n",
              "      <td>0</td>\n",
              "      <td>0</td>\n",
              "      <td>0</td>\n",
              "      <td>0</td>\n",
              "      <td>0</td>\n",
              "      <td>0</td>\n",
              "      <td>0</td>\n",
              "      <td>0</td>\n",
              "      <td>0</td>\n",
              "      <td>0</td>\n",
              "      <td>0</td>\n",
              "      <td>0</td>\n",
              "      <td>0</td>\n",
              "      <td>0</td>\n",
              "      <td>0</td>\n",
              "      <td>0</td>\n",
              "      <td>0</td>\n",
              "      <td>0</td>\n",
              "      <td>0</td>\n",
              "      <td>0</td>\n",
              "      <td>0</td>\n",
              "      <td>0</td>\n",
              "      <td>0</td>\n",
              "      <td>0</td>\n",
              "      <td>0</td>\n",
              "      <td>0</td>\n",
              "      <td>0</td>\n",
              "      <td>0</td>\n",
              "      <td>0</td>\n",
              "      <td>0</td>\n",
              "      <td>0</td>\n",
              "      <td>0</td>\n",
              "    </tr>\n",
              "  </tbody>\n",
              "</table>\n",
              "<p>5 rows × 134 columns</p>\n",
              "</div>"
            ],
            "text/plain": [
              "  Neighborhood  Art Gallery  Art Museum  ...  Wine Bar  Wine Shop  Yoga Studio\n",
              "0  Bronshoj     0            0           ...  0         0          0          \n",
              "1  Bronshoj     0            0           ...  0         0          0          \n",
              "2  Bronshoj     0            0           ...  0         0          0          \n",
              "3  Bronshoj     0            0           ...  0         0          0          \n",
              "4  Bronshoj     0            0           ...  0         0          0          \n",
              "\n",
              "[5 rows x 134 columns]"
            ]
          },
          "metadata": {
            "tags": []
          },
          "execution_count": 60
        }
      ]
    },
    {
      "cell_type": "code",
      "metadata": {
        "id": "1Cwy5y_h0Ah3",
        "colab_type": "code",
        "outputId": "1c3d72c2-1638-4d6c-f293-647ca2e5ab06",
        "colab": {
          "base_uri": "https://localhost:8080/",
          "height": 271
        }
      },
      "source": [
        "#move the neighborhood names to the first column position\n",
        "cph_onehot = cph_onehot[ ['Neighborhood'] + [ col for col in cph_onehot.columns if col != 'Neighborhood' ] ]\n",
        "\n",
        "#group by Neighborhood\n",
        "cph_grouped = cph_onehot.groupby('Neighborhood').mean().reset_index()\n",
        "cph_grouped.head()"
      ],
      "execution_count": 61,
      "outputs": [
        {
          "output_type": "execute_result",
          "data": {
            "text/html": [
              "<div>\n",
              "<style scoped>\n",
              "    .dataframe tbody tr th:only-of-type {\n",
              "        vertical-align: middle;\n",
              "    }\n",
              "\n",
              "    .dataframe tbody tr th {\n",
              "        vertical-align: top;\n",
              "    }\n",
              "\n",
              "    .dataframe thead th {\n",
              "        text-align: right;\n",
              "    }\n",
              "</style>\n",
              "<table border=\"1\" class=\"dataframe\">\n",
              "  <thead>\n",
              "    <tr style=\"text-align: right;\">\n",
              "      <th></th>\n",
              "      <th>Neighborhood</th>\n",
              "      <th>Art Gallery</th>\n",
              "      <th>Art Museum</th>\n",
              "      <th>Arts &amp; Crafts Store</th>\n",
              "      <th>Arts &amp; Entertainment</th>\n",
              "      <th>Asian Restaurant</th>\n",
              "      <th>BBQ Joint</th>\n",
              "      <th>Bagel Shop</th>\n",
              "      <th>Bakery</th>\n",
              "      <th>Bar</th>\n",
              "      <th>Beer Bar</th>\n",
              "      <th>Beer Garden</th>\n",
              "      <th>Beer Store</th>\n",
              "      <th>Bistro</th>\n",
              "      <th>Bookstore</th>\n",
              "      <th>Boutique</th>\n",
              "      <th>Breakfast Spot</th>\n",
              "      <th>Brewery</th>\n",
              "      <th>Burger Joint</th>\n",
              "      <th>Bus Station</th>\n",
              "      <th>Butcher</th>\n",
              "      <th>Café</th>\n",
              "      <th>Candy Store</th>\n",
              "      <th>Cemetery</th>\n",
              "      <th>Chocolate Shop</th>\n",
              "      <th>Clothing Store</th>\n",
              "      <th>Cocktail Bar</th>\n",
              "      <th>Coffee Shop</th>\n",
              "      <th>Comfort Food Restaurant</th>\n",
              "      <th>Construction &amp; Landscaping</th>\n",
              "      <th>Convenience Store</th>\n",
              "      <th>Cupcake Shop</th>\n",
              "      <th>Dance Studio</th>\n",
              "      <th>Deli / Bodega</th>\n",
              "      <th>Department Store</th>\n",
              "      <th>Dessert Shop</th>\n",
              "      <th>Diner</th>\n",
              "      <th>Discount Store</th>\n",
              "      <th>Dive Bar</th>\n",
              "      <th>Electronics Store</th>\n",
              "      <th>...</th>\n",
              "      <th>Playground</th>\n",
              "      <th>Plaza</th>\n",
              "      <th>Pub</th>\n",
              "      <th>Record Shop</th>\n",
              "      <th>Restaurant</th>\n",
              "      <th>Roof Deck</th>\n",
              "      <th>Salad Place</th>\n",
              "      <th>Salon / Barbershop</th>\n",
              "      <th>Sandwich Place</th>\n",
              "      <th>Scandinavian Restaurant</th>\n",
              "      <th>Seafood Restaurant</th>\n",
              "      <th>Shoe Store</th>\n",
              "      <th>Shopping Mall</th>\n",
              "      <th>Soccer Stadium</th>\n",
              "      <th>South American Restaurant</th>\n",
              "      <th>South Indian Restaurant</th>\n",
              "      <th>Spa</th>\n",
              "      <th>Speakeasy</th>\n",
              "      <th>Sporting Goods Shop</th>\n",
              "      <th>Sports Bar</th>\n",
              "      <th>Stadium</th>\n",
              "      <th>Steakhouse</th>\n",
              "      <th>Supermarket</th>\n",
              "      <th>Sushi Restaurant</th>\n",
              "      <th>Szechuan Restaurant</th>\n",
              "      <th>Taco Place</th>\n",
              "      <th>Tapas Restaurant</th>\n",
              "      <th>Tea Room</th>\n",
              "      <th>Tech Startup</th>\n",
              "      <th>Thai Restaurant</th>\n",
              "      <th>Theater</th>\n",
              "      <th>Track</th>\n",
              "      <th>Train Station</th>\n",
              "      <th>Turkish Restaurant</th>\n",
              "      <th>University</th>\n",
              "      <th>Vegetarian / Vegan Restaurant</th>\n",
              "      <th>Vietnamese Restaurant</th>\n",
              "      <th>Wine Bar</th>\n",
              "      <th>Wine Shop</th>\n",
              "      <th>Yoga Studio</th>\n",
              "    </tr>\n",
              "  </thead>\n",
              "  <tbody>\n",
              "    <tr>\n",
              "      <th>0</th>\n",
              "      <td>Bronshoj</td>\n",
              "      <td>0.00000000</td>\n",
              "      <td>0.00000000</td>\n",
              "      <td>0.00000000</td>\n",
              "      <td>0.00000000</td>\n",
              "      <td>0.00000000</td>\n",
              "      <td>0.00000000</td>\n",
              "      <td>0.00000000</td>\n",
              "      <td>0.00000000</td>\n",
              "      <td>0.00000000</td>\n",
              "      <td>0.00000000</td>\n",
              "      <td>0.00000000</td>\n",
              "      <td>0.00000000</td>\n",
              "      <td>0.00000000</td>\n",
              "      <td>0.00000000</td>\n",
              "      <td>0.00000000</td>\n",
              "      <td>0.00000000</td>\n",
              "      <td>0.00000000</td>\n",
              "      <td>0.00000000</td>\n",
              "      <td>0.00000000</td>\n",
              "      <td>0.00000000</td>\n",
              "      <td>0.00000000</td>\n",
              "      <td>0.00000000</td>\n",
              "      <td>0.00000000</td>\n",
              "      <td>0.00000000</td>\n",
              "      <td>0.00000000</td>\n",
              "      <td>0.00000000</td>\n",
              "      <td>0.00000000</td>\n",
              "      <td>0.00000000</td>\n",
              "      <td>0.00000000</td>\n",
              "      <td>0.00000000</td>\n",
              "      <td>0.00000000</td>\n",
              "      <td>0.00000000</td>\n",
              "      <td>0.00000000</td>\n",
              "      <td>0.00000000</td>\n",
              "      <td>0.00000000</td>\n",
              "      <td>0.00000000</td>\n",
              "      <td>0.11111111</td>\n",
              "      <td>0.00000000</td>\n",
              "      <td>0.00000000</td>\n",
              "      <td>...</td>\n",
              "      <td>0.11111111</td>\n",
              "      <td>0.00000000</td>\n",
              "      <td>0.00000000</td>\n",
              "      <td>0.00000000</td>\n",
              "      <td>0.00000000</td>\n",
              "      <td>0.00000000</td>\n",
              "      <td>0.00000000</td>\n",
              "      <td>0.00000000</td>\n",
              "      <td>0.00000000</td>\n",
              "      <td>0.00000000</td>\n",
              "      <td>0.00000000</td>\n",
              "      <td>0.00000000</td>\n",
              "      <td>0.00000000</td>\n",
              "      <td>0.00000000</td>\n",
              "      <td>0.00000000</td>\n",
              "      <td>0.00000000</td>\n",
              "      <td>0.00000000</td>\n",
              "      <td>0.11111111</td>\n",
              "      <td>0.00000000</td>\n",
              "      <td>0.00000000</td>\n",
              "      <td>0.00000000</td>\n",
              "      <td>0.00000000</td>\n",
              "      <td>0.11111111</td>\n",
              "      <td>0.00000000</td>\n",
              "      <td>0.00000000</td>\n",
              "      <td>0.00000000</td>\n",
              "      <td>0.00000000</td>\n",
              "      <td>0.00000000</td>\n",
              "      <td>0.00000000</td>\n",
              "      <td>0.00000000</td>\n",
              "      <td>0.00000000</td>\n",
              "      <td>0.00000000</td>\n",
              "      <td>0.00000000</td>\n",
              "      <td>0.00000000</td>\n",
              "      <td>0.00000000</td>\n",
              "      <td>0.00000000</td>\n",
              "      <td>0.00000000</td>\n",
              "      <td>0.00000000</td>\n",
              "      <td>0.00000000</td>\n",
              "      <td>0.00000000</td>\n",
              "    </tr>\n",
              "    <tr>\n",
              "      <th>1</th>\n",
              "      <td>Dyssegard</td>\n",
              "      <td>0.00000000</td>\n",
              "      <td>0.00000000</td>\n",
              "      <td>0.00000000</td>\n",
              "      <td>0.00000000</td>\n",
              "      <td>0.00000000</td>\n",
              "      <td>0.00000000</td>\n",
              "      <td>0.00000000</td>\n",
              "      <td>0.00000000</td>\n",
              "      <td>0.00000000</td>\n",
              "      <td>0.00000000</td>\n",
              "      <td>0.00000000</td>\n",
              "      <td>0.00000000</td>\n",
              "      <td>0.00000000</td>\n",
              "      <td>0.00000000</td>\n",
              "      <td>0.00000000</td>\n",
              "      <td>0.00000000</td>\n",
              "      <td>0.00000000</td>\n",
              "      <td>0.00000000</td>\n",
              "      <td>0.00000000</td>\n",
              "      <td>0.00000000</td>\n",
              "      <td>0.00000000</td>\n",
              "      <td>0.00000000</td>\n",
              "      <td>0.00000000</td>\n",
              "      <td>0.00000000</td>\n",
              "      <td>0.00000000</td>\n",
              "      <td>0.00000000</td>\n",
              "      <td>0.00000000</td>\n",
              "      <td>0.00000000</td>\n",
              "      <td>0.00000000</td>\n",
              "      <td>0.14285714</td>\n",
              "      <td>0.00000000</td>\n",
              "      <td>0.00000000</td>\n",
              "      <td>0.00000000</td>\n",
              "      <td>0.00000000</td>\n",
              "      <td>0.00000000</td>\n",
              "      <td>0.00000000</td>\n",
              "      <td>0.00000000</td>\n",
              "      <td>0.00000000</td>\n",
              "      <td>0.00000000</td>\n",
              "      <td>...</td>\n",
              "      <td>0.00000000</td>\n",
              "      <td>0.00000000</td>\n",
              "      <td>0.00000000</td>\n",
              "      <td>0.00000000</td>\n",
              "      <td>0.14285714</td>\n",
              "      <td>0.00000000</td>\n",
              "      <td>0.00000000</td>\n",
              "      <td>0.00000000</td>\n",
              "      <td>0.00000000</td>\n",
              "      <td>0.00000000</td>\n",
              "      <td>0.00000000</td>\n",
              "      <td>0.00000000</td>\n",
              "      <td>0.00000000</td>\n",
              "      <td>0.00000000</td>\n",
              "      <td>0.00000000</td>\n",
              "      <td>0.00000000</td>\n",
              "      <td>0.00000000</td>\n",
              "      <td>0.00000000</td>\n",
              "      <td>0.00000000</td>\n",
              "      <td>0.00000000</td>\n",
              "      <td>0.00000000</td>\n",
              "      <td>0.00000000</td>\n",
              "      <td>0.00000000</td>\n",
              "      <td>0.00000000</td>\n",
              "      <td>0.00000000</td>\n",
              "      <td>0.00000000</td>\n",
              "      <td>0.00000000</td>\n",
              "      <td>0.00000000</td>\n",
              "      <td>0.00000000</td>\n",
              "      <td>0.00000000</td>\n",
              "      <td>0.00000000</td>\n",
              "      <td>0.00000000</td>\n",
              "      <td>0.00000000</td>\n",
              "      <td>0.00000000</td>\n",
              "      <td>0.00000000</td>\n",
              "      <td>0.00000000</td>\n",
              "      <td>0.00000000</td>\n",
              "      <td>0.00000000</td>\n",
              "      <td>0.00000000</td>\n",
              "      <td>0.00000000</td>\n",
              "    </tr>\n",
              "    <tr>\n",
              "      <th>2</th>\n",
              "      <td>Frederiksberg</td>\n",
              "      <td>0.00000000</td>\n",
              "      <td>0.00000000</td>\n",
              "      <td>0.00000000</td>\n",
              "      <td>0.00000000</td>\n",
              "      <td>0.00000000</td>\n",
              "      <td>0.03703704</td>\n",
              "      <td>0.00000000</td>\n",
              "      <td>0.03703704</td>\n",
              "      <td>0.07407407</td>\n",
              "      <td>0.00000000</td>\n",
              "      <td>0.00000000</td>\n",
              "      <td>0.00000000</td>\n",
              "      <td>0.00000000</td>\n",
              "      <td>0.00000000</td>\n",
              "      <td>0.00000000</td>\n",
              "      <td>0.00000000</td>\n",
              "      <td>0.00000000</td>\n",
              "      <td>0.00000000</td>\n",
              "      <td>0.00000000</td>\n",
              "      <td>0.00000000</td>\n",
              "      <td>0.00000000</td>\n",
              "      <td>0.00000000</td>\n",
              "      <td>0.00000000</td>\n",
              "      <td>0.00000000</td>\n",
              "      <td>0.00000000</td>\n",
              "      <td>0.00000000</td>\n",
              "      <td>0.14814815</td>\n",
              "      <td>0.00000000</td>\n",
              "      <td>0.00000000</td>\n",
              "      <td>0.00000000</td>\n",
              "      <td>0.00000000</td>\n",
              "      <td>0.00000000</td>\n",
              "      <td>0.00000000</td>\n",
              "      <td>0.00000000</td>\n",
              "      <td>0.00000000</td>\n",
              "      <td>0.03703704</td>\n",
              "      <td>0.03703704</td>\n",
              "      <td>0.00000000</td>\n",
              "      <td>0.00000000</td>\n",
              "      <td>...</td>\n",
              "      <td>0.00000000</td>\n",
              "      <td>0.03703704</td>\n",
              "      <td>0.00000000</td>\n",
              "      <td>0.00000000</td>\n",
              "      <td>0.00000000</td>\n",
              "      <td>0.00000000</td>\n",
              "      <td>0.00000000</td>\n",
              "      <td>0.00000000</td>\n",
              "      <td>0.00000000</td>\n",
              "      <td>0.00000000</td>\n",
              "      <td>0.00000000</td>\n",
              "      <td>0.00000000</td>\n",
              "      <td>0.00000000</td>\n",
              "      <td>0.00000000</td>\n",
              "      <td>0.00000000</td>\n",
              "      <td>0.00000000</td>\n",
              "      <td>0.00000000</td>\n",
              "      <td>0.00000000</td>\n",
              "      <td>0.00000000</td>\n",
              "      <td>0.00000000</td>\n",
              "      <td>0.00000000</td>\n",
              "      <td>0.00000000</td>\n",
              "      <td>0.03703704</td>\n",
              "      <td>0.00000000</td>\n",
              "      <td>0.00000000</td>\n",
              "      <td>0.03703704</td>\n",
              "      <td>0.00000000</td>\n",
              "      <td>0.00000000</td>\n",
              "      <td>0.00000000</td>\n",
              "      <td>0.00000000</td>\n",
              "      <td>0.00000000</td>\n",
              "      <td>0.00000000</td>\n",
              "      <td>0.03703704</td>\n",
              "      <td>0.00000000</td>\n",
              "      <td>0.00000000</td>\n",
              "      <td>0.00000000</td>\n",
              "      <td>0.00000000</td>\n",
              "      <td>0.00000000</td>\n",
              "      <td>0.00000000</td>\n",
              "      <td>0.00000000</td>\n",
              "    </tr>\n",
              "    <tr>\n",
              "      <th>3</th>\n",
              "      <td>Frederiksberg C</td>\n",
              "      <td>0.00000000</td>\n",
              "      <td>0.00000000</td>\n",
              "      <td>0.00000000</td>\n",
              "      <td>0.00000000</td>\n",
              "      <td>0.04545455</td>\n",
              "      <td>0.00000000</td>\n",
              "      <td>0.00000000</td>\n",
              "      <td>0.13636364</td>\n",
              "      <td>0.00000000</td>\n",
              "      <td>0.00000000</td>\n",
              "      <td>0.00000000</td>\n",
              "      <td>0.00000000</td>\n",
              "      <td>0.00000000</td>\n",
              "      <td>0.04545455</td>\n",
              "      <td>0.00000000</td>\n",
              "      <td>0.00000000</td>\n",
              "      <td>0.00000000</td>\n",
              "      <td>0.00000000</td>\n",
              "      <td>0.00000000</td>\n",
              "      <td>0.04545455</td>\n",
              "      <td>0.13636364</td>\n",
              "      <td>0.00000000</td>\n",
              "      <td>0.00000000</td>\n",
              "      <td>0.00000000</td>\n",
              "      <td>0.00000000</td>\n",
              "      <td>0.00000000</td>\n",
              "      <td>0.04545455</td>\n",
              "      <td>0.00000000</td>\n",
              "      <td>0.00000000</td>\n",
              "      <td>0.00000000</td>\n",
              "      <td>0.00000000</td>\n",
              "      <td>0.00000000</td>\n",
              "      <td>0.04545455</td>\n",
              "      <td>0.00000000</td>\n",
              "      <td>0.00000000</td>\n",
              "      <td>0.00000000</td>\n",
              "      <td>0.00000000</td>\n",
              "      <td>0.00000000</td>\n",
              "      <td>0.00000000</td>\n",
              "      <td>...</td>\n",
              "      <td>0.00000000</td>\n",
              "      <td>0.00000000</td>\n",
              "      <td>0.00000000</td>\n",
              "      <td>0.00000000</td>\n",
              "      <td>0.00000000</td>\n",
              "      <td>0.00000000</td>\n",
              "      <td>0.00000000</td>\n",
              "      <td>0.00000000</td>\n",
              "      <td>0.00000000</td>\n",
              "      <td>0.04545455</td>\n",
              "      <td>0.00000000</td>\n",
              "      <td>0.00000000</td>\n",
              "      <td>0.00000000</td>\n",
              "      <td>0.00000000</td>\n",
              "      <td>0.00000000</td>\n",
              "      <td>0.00000000</td>\n",
              "      <td>0.00000000</td>\n",
              "      <td>0.00000000</td>\n",
              "      <td>0.00000000</td>\n",
              "      <td>0.00000000</td>\n",
              "      <td>0.00000000</td>\n",
              "      <td>0.00000000</td>\n",
              "      <td>0.00000000</td>\n",
              "      <td>0.04545455</td>\n",
              "      <td>0.00000000</td>\n",
              "      <td>0.00000000</td>\n",
              "      <td>0.00000000</td>\n",
              "      <td>0.00000000</td>\n",
              "      <td>0.00000000</td>\n",
              "      <td>0.04545455</td>\n",
              "      <td>0.00000000</td>\n",
              "      <td>0.00000000</td>\n",
              "      <td>0.00000000</td>\n",
              "      <td>0.00000000</td>\n",
              "      <td>0.04545455</td>\n",
              "      <td>0.00000000</td>\n",
              "      <td>0.00000000</td>\n",
              "      <td>0.00000000</td>\n",
              "      <td>0.00000000</td>\n",
              "      <td>0.00000000</td>\n",
              "    </tr>\n",
              "    <tr>\n",
              "      <th>4</th>\n",
              "      <td>Hellerup</td>\n",
              "      <td>0.00000000</td>\n",
              "      <td>0.00000000</td>\n",
              "      <td>0.00000000</td>\n",
              "      <td>0.00000000</td>\n",
              "      <td>0.00000000</td>\n",
              "      <td>0.00000000</td>\n",
              "      <td>0.00000000</td>\n",
              "      <td>0.00000000</td>\n",
              "      <td>0.00000000</td>\n",
              "      <td>0.00000000</td>\n",
              "      <td>0.00000000</td>\n",
              "      <td>0.00000000</td>\n",
              "      <td>0.00000000</td>\n",
              "      <td>0.00000000</td>\n",
              "      <td>0.00000000</td>\n",
              "      <td>0.00000000</td>\n",
              "      <td>0.00000000</td>\n",
              "      <td>0.00000000</td>\n",
              "      <td>0.00000000</td>\n",
              "      <td>0.00000000</td>\n",
              "      <td>0.11111111</td>\n",
              "      <td>0.00000000</td>\n",
              "      <td>0.00000000</td>\n",
              "      <td>0.00000000</td>\n",
              "      <td>0.00000000</td>\n",
              "      <td>0.00000000</td>\n",
              "      <td>0.00000000</td>\n",
              "      <td>0.00000000</td>\n",
              "      <td>0.00000000</td>\n",
              "      <td>0.00000000</td>\n",
              "      <td>0.00000000</td>\n",
              "      <td>0.00000000</td>\n",
              "      <td>0.00000000</td>\n",
              "      <td>0.00000000</td>\n",
              "      <td>0.00000000</td>\n",
              "      <td>0.00000000</td>\n",
              "      <td>0.00000000</td>\n",
              "      <td>0.00000000</td>\n",
              "      <td>0.00000000</td>\n",
              "      <td>...</td>\n",
              "      <td>0.00000000</td>\n",
              "      <td>0.00000000</td>\n",
              "      <td>0.00000000</td>\n",
              "      <td>0.00000000</td>\n",
              "      <td>0.00000000</td>\n",
              "      <td>0.00000000</td>\n",
              "      <td>0.00000000</td>\n",
              "      <td>0.00000000</td>\n",
              "      <td>0.00000000</td>\n",
              "      <td>0.00000000</td>\n",
              "      <td>0.00000000</td>\n",
              "      <td>0.00000000</td>\n",
              "      <td>0.00000000</td>\n",
              "      <td>0.00000000</td>\n",
              "      <td>0.00000000</td>\n",
              "      <td>0.00000000</td>\n",
              "      <td>0.00000000</td>\n",
              "      <td>0.00000000</td>\n",
              "      <td>0.00000000</td>\n",
              "      <td>0.00000000</td>\n",
              "      <td>0.00000000</td>\n",
              "      <td>0.00000000</td>\n",
              "      <td>0.00000000</td>\n",
              "      <td>0.11111111</td>\n",
              "      <td>0.00000000</td>\n",
              "      <td>0.00000000</td>\n",
              "      <td>0.00000000</td>\n",
              "      <td>0.00000000</td>\n",
              "      <td>0.00000000</td>\n",
              "      <td>0.00000000</td>\n",
              "      <td>0.00000000</td>\n",
              "      <td>0.00000000</td>\n",
              "      <td>0.00000000</td>\n",
              "      <td>0.00000000</td>\n",
              "      <td>0.00000000</td>\n",
              "      <td>0.00000000</td>\n",
              "      <td>0.00000000</td>\n",
              "      <td>0.00000000</td>\n",
              "      <td>0.00000000</td>\n",
              "      <td>0.00000000</td>\n",
              "    </tr>\n",
              "  </tbody>\n",
              "</table>\n",
              "<p>5 rows × 134 columns</p>\n",
              "</div>"
            ],
            "text/plain": [
              "      Neighborhood  Art Gallery  Art Museum  ...   Wine Bar  Wine Shop  Yoga Studio\n",
              "0  Bronshoj        0.00000000   0.00000000   ... 0.00000000 0.00000000 0.00000000  \n",
              "1  Dyssegard       0.00000000   0.00000000   ... 0.00000000 0.00000000 0.00000000  \n",
              "2  Frederiksberg   0.00000000   0.00000000   ... 0.00000000 0.00000000 0.00000000  \n",
              "3  Frederiksberg C 0.00000000   0.00000000   ... 0.00000000 0.00000000 0.00000000  \n",
              "4  Hellerup        0.00000000   0.00000000   ... 0.00000000 0.00000000 0.00000000  \n",
              "\n",
              "[5 rows x 134 columns]"
            ]
          },
          "metadata": {
            "tags": []
          },
          "execution_count": 61
        }
      ]
    },
    {
      "cell_type": "markdown",
      "metadata": {
        "id": "V7CmYzSb2Kdh",
        "colab_type": "text"
      },
      "source": [
        "Sort the venues in descending order and create a new dataframe where the top 10 venues are shown for each neighborhood."
      ]
    },
    {
      "cell_type": "code",
      "metadata": {
        "id": "evIB93BY0I5o",
        "colab_type": "code",
        "outputId": "7cc6ad76-f1d0-4135-91e4-5075c3bf30ca",
        "colab": {
          "base_uri": "https://localhost:8080/",
          "height": 223
        }
      },
      "source": [
        "#First, let's write a function to sort the venues in descending order.\n",
        "def return_most_common_venues(row, num_top_venues):\n",
        "    row_categories = row.iloc[1:]\n",
        "    row_categories_sorted = row_categories.sort_values(ascending=False)\n",
        "    \n",
        "    return row_categories_sorted.index.values[0:num_top_venues]\n",
        "\n",
        "#Now let's create the new dataframe and display the top 10 venues for each neighborhood.\n",
        "\n",
        "num_top_venues = 10\n",
        "\n",
        "indicators = ['st', 'nd', 'rd']\n",
        "\n",
        "# create columns according to number of top venues\n",
        "columns = ['Neighborhood']\n",
        "for ind in np.arange(num_top_venues):\n",
        "    try:\n",
        "        columns.append('{}{} Most Common Venue'.format(ind+1, indicators[ind]))\n",
        "    except:\n",
        "        columns.append('{}th Most Common Venue'.format(ind+1))\n",
        "\n",
        "# Create a new dataframe\n",
        "neighborhoods_venues_sorted = pd.DataFrame(columns=columns)\n",
        "neighborhoods_venues_sorted['Neighborhood'] = cph_grouped['Neighborhood']\n",
        "\n",
        "for ind in np.arange(cph_grouped.shape[0]):\n",
        "    neighborhoods_venues_sorted.iloc[ind, 1:] = return_most_common_venues(cph_grouped.iloc[ind, :], num_top_venues)\n",
        "\n",
        "neighborhoods_venues_sorted.head()"
      ],
      "execution_count": 62,
      "outputs": [
        {
          "output_type": "execute_result",
          "data": {
            "text/html": [
              "<div>\n",
              "<style scoped>\n",
              "    .dataframe tbody tr th:only-of-type {\n",
              "        vertical-align: middle;\n",
              "    }\n",
              "\n",
              "    .dataframe tbody tr th {\n",
              "        vertical-align: top;\n",
              "    }\n",
              "\n",
              "    .dataframe thead th {\n",
              "        text-align: right;\n",
              "    }\n",
              "</style>\n",
              "<table border=\"1\" class=\"dataframe\">\n",
              "  <thead>\n",
              "    <tr style=\"text-align: right;\">\n",
              "      <th></th>\n",
              "      <th>Neighborhood</th>\n",
              "      <th>1st Most Common Venue</th>\n",
              "      <th>2nd Most Common Venue</th>\n",
              "      <th>3rd Most Common Venue</th>\n",
              "      <th>4th Most Common Venue</th>\n",
              "      <th>5th Most Common Venue</th>\n",
              "      <th>6th Most Common Venue</th>\n",
              "      <th>7th Most Common Venue</th>\n",
              "      <th>8th Most Common Venue</th>\n",
              "      <th>9th Most Common Venue</th>\n",
              "      <th>10th Most Common Venue</th>\n",
              "    </tr>\n",
              "  </thead>\n",
              "  <tbody>\n",
              "    <tr>\n",
              "      <th>0</th>\n",
              "      <td>Bronshoj</td>\n",
              "      <td>Grocery Store</td>\n",
              "      <td>Supermarket</td>\n",
              "      <td>Speakeasy</td>\n",
              "      <td>Playground</td>\n",
              "      <td>Gym / Fitness Center</td>\n",
              "      <td>Discount Store</td>\n",
              "      <td>Pizza Place</td>\n",
              "      <td>Farm</td>\n",
              "      <td>Fish Market</td>\n",
              "      <td>Fish &amp; Chips Shop</td>\n",
              "    </tr>\n",
              "    <tr>\n",
              "      <th>1</th>\n",
              "      <td>Dyssegard</td>\n",
              "      <td>Fast Food Restaurant</td>\n",
              "      <td>Italian Restaurant</td>\n",
              "      <td>Convenience Store</td>\n",
              "      <td>Gym / Fitness Center</td>\n",
              "      <td>Restaurant</td>\n",
              "      <td>Ice Cream Shop</td>\n",
              "      <td>Diner</td>\n",
              "      <td>Discount Store</td>\n",
              "      <td>Dive Bar</td>\n",
              "      <td>Food Court</td>\n",
              "    </tr>\n",
              "    <tr>\n",
              "      <th>2</th>\n",
              "      <td>Frederiksberg</td>\n",
              "      <td>Coffee Shop</td>\n",
              "      <td>Pizza Place</td>\n",
              "      <td>Grocery Store</td>\n",
              "      <td>Bar</td>\n",
              "      <td>Plaza</td>\n",
              "      <td>Jewelry Store</td>\n",
              "      <td>Diner</td>\n",
              "      <td>Supermarket</td>\n",
              "      <td>Gastropub</td>\n",
              "      <td>Taco Place</td>\n",
              "    </tr>\n",
              "    <tr>\n",
              "      <th>3</th>\n",
              "      <td>Frederiksberg C</td>\n",
              "      <td>Café</td>\n",
              "      <td>Bakery</td>\n",
              "      <td>Thai Restaurant</td>\n",
              "      <td>Juice Bar</td>\n",
              "      <td>Garden</td>\n",
              "      <td>Bookstore</td>\n",
              "      <td>Sushi Restaurant</td>\n",
              "      <td>French Restaurant</td>\n",
              "      <td>Music Store</td>\n",
              "      <td>Scandinavian Restaurant</td>\n",
              "    </tr>\n",
              "    <tr>\n",
              "      <th>4</th>\n",
              "      <td>Hellerup</td>\n",
              "      <td>Pizza Place</td>\n",
              "      <td>Italian Restaurant</td>\n",
              "      <td>Fast Food Restaurant</td>\n",
              "      <td>Sushi Restaurant</td>\n",
              "      <td>Café</td>\n",
              "      <td>Platform</td>\n",
              "      <td>Grocery Store</td>\n",
              "      <td>Gastropub</td>\n",
              "      <td>Flower Shop</td>\n",
              "      <td>Fish Market</td>\n",
              "    </tr>\n",
              "  </tbody>\n",
              "</table>\n",
              "</div>"
            ],
            "text/plain": [
              "      Neighborhood  ...   10th Most Common Venue\n",
              "0  Bronshoj         ...  Fish & Chips Shop      \n",
              "1  Dyssegard        ...  Food Court             \n",
              "2  Frederiksberg    ...  Taco Place             \n",
              "3  Frederiksberg C  ...  Scandinavian Restaurant\n",
              "4  Hellerup         ...  Fish Market            \n",
              "\n",
              "[5 rows x 11 columns]"
            ]
          },
          "metadata": {
            "tags": []
          },
          "execution_count": 62
        }
      ]
    },
    {
      "cell_type": "markdown",
      "metadata": {
        "id": "hlLu1-mV09cS",
        "colab_type": "text"
      },
      "source": [
        "## K means Clustering of the Neighborhoods\n"
      ]
    },
    {
      "cell_type": "markdown",
      "metadata": {
        "id": "-VbBaVOM3CIV",
        "colab_type": "text"
      },
      "source": [
        "In here I have ran a 'Elbow' test on the Kmeans in order to find what the best k is. "
      ]
    },
    {
      "cell_type": "code",
      "metadata": {
        "id": "K3xeJcPY_Uf7",
        "colab_type": "code",
        "outputId": "5df88238-c9fa-4b4d-c853-a2beff1a8e31",
        "colab": {
          "base_uri": "https://localhost:8080/",
          "height": 295
        }
      },
      "source": [
        "cph_grouped_clustering = cph_grouped.drop('Neighborhood', 1) #drop the column with the axis 1\n",
        "x = cph_grouped_clustering\n",
        "Sum_of_squared_distances = []\n",
        "K = range(1,15)\n",
        "for k in K:\n",
        "    km = KMeans(n_clusters=k).fit(x)\n",
        "    Sum_of_squared_distances.append(km.inertia_)\n",
        "\n",
        "plt.plot(K, Sum_of_squared_distances, 'bx-')\n",
        "plt.xlabel('k')\n",
        "plt.ylabel('Sum_of_squared_distances')\n",
        "plt.title('Elbow Method For Optimal k')\n",
        "plt.show()"
      ],
      "execution_count": 63,
      "outputs": [
        {
          "output_type": "display_data",
          "data": {
            "image/png": "[encoded data removed]",
            "text/plain": [
              "<Figure size 432x288 with 1 Axes>"
            ]
          },
          "metadata": {
            "tags": []
          }
        }
      ]
    },
    {
      "cell_type": "markdown",
      "metadata": {
        "id": "Bv9Vq1Wr3Sfr",
        "colab_type": "text"
      },
      "source": [
        "Here I chosen k=4 as the k value for the Kmeans"
      ]
    },
    {
      "cell_type": "code",
      "metadata": {
        "id": "Ow6Fg6aB09JA",
        "colab_type": "code",
        "outputId": "8f0e1170-74a6-4a13-9c6b-7d2de5c45310",
        "colab": {
          "base_uri": "https://localhost:8080/",
          "height": 33
        }
      },
      "source": [
        "kclusters = 7\n",
        "cph_grouped_clustering = cph_grouped.drop('Neighborhood', 1) #drop the column with the axis 1\n",
        "x = cph_grouped_clustering\n",
        "\n",
        "# run k-means clustering\n",
        "kmeans = KMeans(n_clusters=kclusters, random_state=0).fit(x) #cph_grouped_clustering without the neighborhood name\n",
        "\n",
        "# check cluster labels generated for each row in the dataframe\n",
        "kmeans.labels_ "
      ],
      "execution_count": 64,
      "outputs": [
        {
          "output_type": "execute_result",
          "data": {
            "text/plain": [
              "array([6, 5, 0, 0, 3, 1, 0, 0, 0, 0, 4, 0, 0, 2, 0], dtype=int32)"
            ]
          },
          "metadata": {
            "tags": []
          },
          "execution_count": 64
        }
      ]
    },
    {
      "cell_type": "markdown",
      "metadata": {
        "id": "uA3wbnj31IiP",
        "colab_type": "text"
      },
      "source": [
        "Merge the labels with the 'neighborhoods_venues_sorted' dataframe. Here a new column called 'Cluster Labels' is inserted into the dataframe"
      ]
    },
    {
      "cell_type": "code",
      "metadata": {
        "id": "hBmhKvDI1INj",
        "colab_type": "code",
        "outputId": "7e841a35-b460-45c7-db63-72cbff8313b9",
        "colab": {
          "base_uri": "https://localhost:8080/",
          "height": 272
        }
      },
      "source": [
        "#add clusters\n",
        "neighborhoods_venues_sorted.insert(0, 'Cluster Labels', kmeans.labels_)\n",
        "cph_merged = cph\n",
        "# merge neighborhoods_venues_sorted with cph to add latitude/longitude for each neighborhood\n",
        "cph_merged = cph_merged.join(neighborhoods_venues_sorted.set_index('Neighborhood'), on='Neighborhood')\n",
        "cph_merged.head() # check"
      ],
      "execution_count": 65,
      "outputs": [
        {
          "output_type": "execute_result",
          "data": {
            "text/html": [
              "<div>\n",
              "<style scoped>\n",
              "    .dataframe tbody tr th:only-of-type {\n",
              "        vertical-align: middle;\n",
              "    }\n",
              "\n",
              "    .dataframe tbody tr th {\n",
              "        vertical-align: top;\n",
              "    }\n",
              "\n",
              "    .dataframe thead th {\n",
              "        text-align: right;\n",
              "    }\n",
              "</style>\n",
              "<table border=\"1\" class=\"dataframe\">\n",
              "  <thead>\n",
              "    <tr style=\"text-align: right;\">\n",
              "      <th></th>\n",
              "      <th>Neighborhood</th>\n",
              "      <th>Postal Codes</th>\n",
              "      <th>Latitude</th>\n",
              "      <th>Longitude</th>\n",
              "      <th>Cluster Labels</th>\n",
              "      <th>1st Most Common Venue</th>\n",
              "      <th>2nd Most Common Venue</th>\n",
              "      <th>3rd Most Common Venue</th>\n",
              "      <th>4th Most Common Venue</th>\n",
              "      <th>5th Most Common Venue</th>\n",
              "      <th>6th Most Common Venue</th>\n",
              "      <th>7th Most Common Venue</th>\n",
              "      <th>8th Most Common Venue</th>\n",
              "      <th>9th Most Common Venue</th>\n",
              "      <th>10th Most Common Venue</th>\n",
              "    </tr>\n",
              "  </thead>\n",
              "  <tbody>\n",
              "    <tr>\n",
              "      <th>0</th>\n",
              "      <td>Bronshoj</td>\n",
              "      <td>2700</td>\n",
              "      <td>55.70686961</td>\n",
              "      <td>12.48453613</td>\n",
              "      <td>6</td>\n",
              "      <td>Grocery Store</td>\n",
              "      <td>Supermarket</td>\n",
              "      <td>Speakeasy</td>\n",
              "      <td>Playground</td>\n",
              "      <td>Gym / Fitness Center</td>\n",
              "      <td>Discount Store</td>\n",
              "      <td>Pizza Place</td>\n",
              "      <td>Farm</td>\n",
              "      <td>Fish Market</td>\n",
              "      <td>Fish &amp; Chips Shop</td>\n",
              "    </tr>\n",
              "    <tr>\n",
              "      <th>1</th>\n",
              "      <td>Dyssegard</td>\n",
              "      <td>2870</td>\n",
              "      <td>55.73280743</td>\n",
              "      <td>12.52674557</td>\n",
              "      <td>5</td>\n",
              "      <td>Fast Food Restaurant</td>\n",
              "      <td>Italian Restaurant</td>\n",
              "      <td>Convenience Store</td>\n",
              "      <td>Gym / Fitness Center</td>\n",
              "      <td>Restaurant</td>\n",
              "      <td>Ice Cream Shop</td>\n",
              "      <td>Diner</td>\n",
              "      <td>Discount Store</td>\n",
              "      <td>Dive Bar</td>\n",
              "      <td>Food Court</td>\n",
              "    </tr>\n",
              "    <tr>\n",
              "      <th>2</th>\n",
              "      <td>Frederiksberg C</td>\n",
              "      <td>1874</td>\n",
              "      <td>55.67961226</td>\n",
              "      <td>12.54643622</td>\n",
              "      <td>0</td>\n",
              "      <td>Café</td>\n",
              "      <td>Bakery</td>\n",
              "      <td>Thai Restaurant</td>\n",
              "      <td>Juice Bar</td>\n",
              "      <td>Garden</td>\n",
              "      <td>Bookstore</td>\n",
              "      <td>Sushi Restaurant</td>\n",
              "      <td>French Restaurant</td>\n",
              "      <td>Music Store</td>\n",
              "      <td>Scandinavian Restaurant</td>\n",
              "    </tr>\n",
              "    <tr>\n",
              "      <th>3</th>\n",
              "      <td>Frederiksberg</td>\n",
              "      <td>2000</td>\n",
              "      <td>55.68252254</td>\n",
              "      <td>12.51788731</td>\n",
              "      <td>0</td>\n",
              "      <td>Coffee Shop</td>\n",
              "      <td>Pizza Place</td>\n",
              "      <td>Grocery Store</td>\n",
              "      <td>Bar</td>\n",
              "      <td>Plaza</td>\n",
              "      <td>Jewelry Store</td>\n",
              "      <td>Diner</td>\n",
              "      <td>Supermarket</td>\n",
              "      <td>Gastropub</td>\n",
              "      <td>Taco Place</td>\n",
              "    </tr>\n",
              "    <tr>\n",
              "      <th>4</th>\n",
              "      <td>Hellerup</td>\n",
              "      <td>2900</td>\n",
              "      <td>55.73356381</td>\n",
              "      <td>12.56079034</td>\n",
              "      <td>3</td>\n",
              "      <td>Pizza Place</td>\n",
              "      <td>Italian Restaurant</td>\n",
              "      <td>Fast Food Restaurant</td>\n",
              "      <td>Sushi Restaurant</td>\n",
              "      <td>Café</td>\n",
              "      <td>Platform</td>\n",
              "      <td>Grocery Store</td>\n",
              "      <td>Gastropub</td>\n",
              "      <td>Flower Shop</td>\n",
              "      <td>Fish Market</td>\n",
              "    </tr>\n",
              "  </tbody>\n",
              "</table>\n",
              "</div>"
            ],
            "text/plain": [
              "      Neighborhood Postal Codes  ...  9th Most Common Venue   10th Most Common Venue\n",
              "0  Bronshoj         2700         ...  Fish Market            Fish & Chips Shop      \n",
              "1  Dyssegard        2870         ...  Dive Bar               Food Court             \n",
              "2  Frederiksberg C  1874         ...  Music Store            Scandinavian Restaurant\n",
              "3  Frederiksberg    2000         ...  Gastropub              Taco Place             \n",
              "4  Hellerup         2900         ...  Flower Shop            Fish Market            \n",
              "\n",
              "[5 rows x 15 columns]"
            ]
          },
          "metadata": {
            "tags": []
          },
          "execution_count": 65
        }
      ]
    },
    {
      "cell_type": "markdown",
      "metadata": {
        "id": "TMX91UPg1hDw",
        "colab_type": "text"
      },
      "source": [
        "### Cluster Visualization"
      ]
    },
    {
      "cell_type": "code",
      "metadata": {
        "id": "J5WpYSXn0kZY",
        "colab_type": "code",
        "outputId": "a111bf51-dbf2-44eb-93cb-7955b60a4222",
        "colab": {
          "base_uri": "https://localhost:8080/",
          "height": 1000
        }
      },
      "source": [
        "# create map\n",
        "map_clusters = folium.Map(location=[latitude, longitude], zoom_start=12)\n",
        "\n",
        "# set color scheme for the clusters\n",
        "x = np.arange(kclusters)\n",
        "ys = [i + x + (i*x)**2 for i in range(kclusters)]\n",
        "colors_array = cm.rainbow(np.linspace(0, 1, len(ys)))\n",
        "rainbow = [colors.rgb2hex(i) for i in colors_array]\n",
        "\n",
        "# add markers to the map\n",
        "markers_colors = []\n",
        "for lat, lon, poi, cluster in zip(cph_merged['Latitude'], cph_merged['Longitude'], cph_merged['Neighborhood'], cph_merged['Cluster Labels']):\n",
        "    label = folium.Popup(str(poi) + ' Cluster ' + str(cluster), parse_html=True)\n",
        "    folium.CircleMarker(\n",
        "        [lat, lon],\n",
        "        radius=10,\n",
        "        popup=label,\n",
        "        color=rainbow[cluster-1],\n",
        "        fill=True,\n",
        "        fill_color=rainbow[cluster-1],\n",
        "        fill_opacity=0.7).add_to(map_clusters)\n",
        "       \n",
        "map_clusters\n"
      ],
      "execution_count": 66,
      "outputs": [
        {
          "output_type": "execute_result",
          "data": {
            "text/html": [
              "<div style=\"width:100%;\"><div style=\"position:relative;width:100%;height:0;padding-bottom:60%;\"><iframe src=\"about:blank\" style=\"position:absolute;width:100%;height:100%;left:0;top:0;border:none !important;\" data-html=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 onload=\"this.contentDocument.open();this.contentDocument.write(atob(this.getAttribute('data-html')));this.contentDocument.close();\" allowfullscreen webkitallowfullscreen mozallowfullscreen></iframe></div></div>"
            ],
            "text/plain": [
              "<folium.folium.Map at 0x7fc905322be0>"
            ]
          },
          "metadata": {
            "tags": []
          },
          "execution_count": 66
        }
      ]
    },
    {
      "cell_type": "code",
      "metadata": {
        "id": "3glztes8y-Ad",
        "colab_type": "code",
        "colab": {}
      },
      "source": [
        "map_clusters.save('map_clusters.html')"
      ],
      "execution_count": 0,
      "outputs": []
    },
    {
      "cell_type": "markdown",
      "metadata": {
        "id": "DcZJ0s-P5sI4",
        "colab_type": "text"
      },
      "source": [
        "###Cluster Analysis"
      ]
    },
    {
      "cell_type": "markdown",
      "metadata": {
        "id": "FZHlVbnj56na",
        "colab_type": "text"
      },
      "source": [
        "Cluster 0"
      ]
    },
    {
      "cell_type": "code",
      "metadata": {
        "id": "fsADp8mP5ykB",
        "colab_type": "code",
        "colab": {
          "base_uri": "https://localhost:8080/",
          "height": 452
        },
        "outputId": "41f1492a-103f-416a-a02a-6b9ba280cbdd"
      },
      "source": [
        "cluster0 = cph_merged.loc[cph_merged['Cluster Labels'] == 0]                           \n",
        "cluster0"
      ],
      "execution_count": 68,
      "outputs": [
        {
          "output_type": "execute_result",
          "data": {
            "text/html": [
              "<div>\n",
              "<style scoped>\n",
              "    .dataframe tbody tr th:only-of-type {\n",
              "        vertical-align: middle;\n",
              "    }\n",
              "\n",
              "    .dataframe tbody tr th {\n",
              "        vertical-align: top;\n",
              "    }\n",
              "\n",
              "    .dataframe thead th {\n",
              "        text-align: right;\n",
              "    }\n",
              "</style>\n",
              "<table border=\"1\" class=\"dataframe\">\n",
              "  <thead>\n",
              "    <tr style=\"text-align: right;\">\n",
              "      <th></th>\n",
              "      <th>Neighborhood</th>\n",
              "      <th>Postal Codes</th>\n",
              "      <th>Latitude</th>\n",
              "      <th>Longitude</th>\n",
              "      <th>Cluster Labels</th>\n",
              "      <th>1st Most Common Venue</th>\n",
              "      <th>2nd Most Common Venue</th>\n",
              "      <th>3rd Most Common Venue</th>\n",
              "      <th>4th Most Common Venue</th>\n",
              "      <th>5th Most Common Venue</th>\n",
              "      <th>6th Most Common Venue</th>\n",
              "      <th>7th Most Common Venue</th>\n",
              "      <th>8th Most Common Venue</th>\n",
              "      <th>9th Most Common Venue</th>\n",
              "      <th>10th Most Common Venue</th>\n",
              "    </tr>\n",
              "  </thead>\n",
              "  <tbody>\n",
              "    <tr>\n",
              "      <th>2</th>\n",
              "      <td>Frederiksberg C</td>\n",
              "      <td>1874</td>\n",
              "      <td>55.67961226</td>\n",
              "      <td>12.54643622</td>\n",
              "      <td>0</td>\n",
              "      <td>Café</td>\n",
              "      <td>Bakery</td>\n",
              "      <td>Thai Restaurant</td>\n",
              "      <td>Juice Bar</td>\n",
              "      <td>Garden</td>\n",
              "      <td>Bookstore</td>\n",
              "      <td>Sushi Restaurant</td>\n",
              "      <td>French Restaurant</td>\n",
              "      <td>Music Store</td>\n",
              "      <td>Scandinavian Restaurant</td>\n",
              "    </tr>\n",
              "    <tr>\n",
              "      <th>3</th>\n",
              "      <td>Frederiksberg</td>\n",
              "      <td>2000</td>\n",
              "      <td>55.68252254</td>\n",
              "      <td>12.51788731</td>\n",
              "      <td>0</td>\n",
              "      <td>Coffee Shop</td>\n",
              "      <td>Pizza Place</td>\n",
              "      <td>Grocery Store</td>\n",
              "      <td>Bar</td>\n",
              "      <td>Plaza</td>\n",
              "      <td>Jewelry Store</td>\n",
              "      <td>Diner</td>\n",
              "      <td>Supermarket</td>\n",
              "      <td>Gastropub</td>\n",
              "      <td>Taco Place</td>\n",
              "    </tr>\n",
              "    <tr>\n",
              "      <th>6</th>\n",
              "      <td>Kobenhavn K</td>\n",
              "      <td>1050</td>\n",
              "      <td>55.68060321</td>\n",
              "      <td>12.58567583</td>\n",
              "      <td>0</td>\n",
              "      <td>Restaurant</td>\n",
              "      <td>Scandinavian Restaurant</td>\n",
              "      <td>Coffee Shop</td>\n",
              "      <td>French Restaurant</td>\n",
              "      <td>Café</td>\n",
              "      <td>Bar</td>\n",
              "      <td>Furniture / Home Store</td>\n",
              "      <td>Clothing Store</td>\n",
              "      <td>Cocktail Bar</td>\n",
              "      <td>Steakhouse</td>\n",
              "    </tr>\n",
              "    <tr>\n",
              "      <th>7</th>\n",
              "      <td>Kobenhavn N</td>\n",
              "      <td>2200</td>\n",
              "      <td>55.69484852</td>\n",
              "      <td>12.55015575</td>\n",
              "      <td>0</td>\n",
              "      <td>Bakery</td>\n",
              "      <td>Coffee Shop</td>\n",
              "      <td>Wine Bar</td>\n",
              "      <td>Bar</td>\n",
              "      <td>Pizza Place</td>\n",
              "      <td>Thai Restaurant</td>\n",
              "      <td>Fast Food Restaurant</td>\n",
              "      <td>Beer Bar</td>\n",
              "      <td>Candy Store</td>\n",
              "      <td>Scandinavian Restaurant</td>\n",
              "    </tr>\n",
              "    <tr>\n",
              "      <th>8</th>\n",
              "      <td>Kobenhavn NV</td>\n",
              "      <td>2400</td>\n",
              "      <td>55.70861537</td>\n",
              "      <td>12.52629945</td>\n",
              "      <td>0</td>\n",
              "      <td>Sushi Restaurant</td>\n",
              "      <td>Gym / Fitness Center</td>\n",
              "      <td>Food &amp; Drink Shop</td>\n",
              "      <td>Restaurant</td>\n",
              "      <td>Dance Studio</td>\n",
              "      <td>Pub</td>\n",
              "      <td>Discount Store</td>\n",
              "      <td>Coffee Shop</td>\n",
              "      <td>Moving Target</td>\n",
              "      <td>Clothing Store</td>\n",
              "    </tr>\n",
              "    <tr>\n",
              "      <th>10</th>\n",
              "      <td>Kobenhavn SV</td>\n",
              "      <td>2450</td>\n",
              "      <td>55.64835460</td>\n",
              "      <td>12.53594049</td>\n",
              "      <td>0</td>\n",
              "      <td>Pub</td>\n",
              "      <td>Grocery Store</td>\n",
              "      <td>Café</td>\n",
              "      <td>Office</td>\n",
              "      <td>Convenience Store</td>\n",
              "      <td>Bakery</td>\n",
              "      <td>Electronics Store</td>\n",
              "      <td>Pizza Place</td>\n",
              "      <td>Plaza</td>\n",
              "      <td>Hotel</td>\n",
              "    </tr>\n",
              "    <tr>\n",
              "      <th>11</th>\n",
              "      <td>Kobenhavn O</td>\n",
              "      <td>2100</td>\n",
              "      <td>55.70717133</td>\n",
              "      <td>12.57198501</td>\n",
              "      <td>0</td>\n",
              "      <td>Pizza Place</td>\n",
              "      <td>Bakery</td>\n",
              "      <td>Coffee Shop</td>\n",
              "      <td>Theater</td>\n",
              "      <td>Playground</td>\n",
              "      <td>Plaza</td>\n",
              "      <td>Café</td>\n",
              "      <td>Supermarket</td>\n",
              "      <td>Thai Restaurant</td>\n",
              "      <td>Gym / Fitness Center</td>\n",
              "    </tr>\n",
              "    <tr>\n",
              "      <th>12</th>\n",
              "      <td>Kobenhavn V</td>\n",
              "      <td>1650</td>\n",
              "      <td>55.66970579</td>\n",
              "      <td>12.55488114</td>\n",
              "      <td>0</td>\n",
              "      <td>Hotel</td>\n",
              "      <td>Coffee Shop</td>\n",
              "      <td>Café</td>\n",
              "      <td>Scandinavian Restaurant</td>\n",
              "      <td>Cocktail Bar</td>\n",
              "      <td>Italian Restaurant</td>\n",
              "      <td>Burger Joint</td>\n",
              "      <td>Breakfast Spot</td>\n",
              "      <td>Pizza Place</td>\n",
              "      <td>Bakery</td>\n",
              "    </tr>\n",
              "    <tr>\n",
              "      <th>14</th>\n",
              "      <td>Vanlose</td>\n",
              "      <td>2720</td>\n",
              "      <td>55.68955552</td>\n",
              "      <td>12.48688966</td>\n",
              "      <td>0</td>\n",
              "      <td>Pizza Place</td>\n",
              "      <td>Grocery Store</td>\n",
              "      <td>Bakery</td>\n",
              "      <td>Fast Food Restaurant</td>\n",
              "      <td>Gym / Fitness Center</td>\n",
              "      <td>Sushi Restaurant</td>\n",
              "      <td>Scandinavian Restaurant</td>\n",
              "      <td>Furniture / Home Store</td>\n",
              "      <td>Shopping Mall</td>\n",
              "      <td>Coffee Shop</td>\n",
              "    </tr>\n",
              "  </tbody>\n",
              "</table>\n",
              "</div>"
            ],
            "text/plain": [
              "       Neighborhood Postal Codes  ...  9th Most Common Venue   10th Most Common Venue\n",
              "2   Frederiksberg C  1874         ...  Music Store            Scandinavian Restaurant\n",
              "3   Frederiksberg    2000         ...  Gastropub              Taco Place             \n",
              "6   Kobenhavn K      1050         ...  Cocktail Bar           Steakhouse             \n",
              "7   Kobenhavn N      2200         ...  Candy Store            Scandinavian Restaurant\n",
              "8   Kobenhavn NV     2400         ...  Moving Target          Clothing Store         \n",
              "10  Kobenhavn SV     2450         ...  Plaza                  Hotel                  \n",
              "11  Kobenhavn O      2100         ...  Thai Restaurant        Gym / Fitness Center   \n",
              "12  Kobenhavn V      1650         ...  Pizza Place            Bakery                 \n",
              "14  Vanlose          2720         ...  Shopping Mall          Coffee Shop            \n",
              "\n",
              "[9 rows x 15 columns]"
            ]
          },
          "metadata": {
            "tags": []
          },
          "execution_count": 68
        }
      ]
    },
    {
      "cell_type": "markdown",
      "metadata": {
        "id": "8fO0qdHn58GF",
        "colab_type": "text"
      },
      "source": [
        "Cluster 1"
      ]
    },
    {
      "cell_type": "code",
      "metadata": {
        "id": "YwNxjSSFbnaw",
        "colab_type": "code",
        "colab": {
          "base_uri": "https://localhost:8080/",
          "height": 108
        },
        "outputId": "56bd35e6-aabc-4c8d-c2a7-9203cad734c3"
      },
      "source": [
        "cluster1 = cph_merged.loc[cph_merged['Cluster Labels'] == 1, \n",
        "                                cph_merged.columns[[0] + list(range(5, cph_merged.shape[1]))]]                           \n",
        "cluster1"
      ],
      "execution_count": 69,
      "outputs": [
        {
          "output_type": "execute_result",
          "data": {
            "text/html": [
              "<div>\n",
              "<style scoped>\n",
              "    .dataframe tbody tr th:only-of-type {\n",
              "        vertical-align: middle;\n",
              "    }\n",
              "\n",
              "    .dataframe tbody tr th {\n",
              "        vertical-align: top;\n",
              "    }\n",
              "\n",
              "    .dataframe thead th {\n",
              "        text-align: right;\n",
              "    }\n",
              "</style>\n",
              "<table border=\"1\" class=\"dataframe\">\n",
              "  <thead>\n",
              "    <tr style=\"text-align: right;\">\n",
              "      <th></th>\n",
              "      <th>Neighborhood</th>\n",
              "      <th>1st Most Common Venue</th>\n",
              "      <th>2nd Most Common Venue</th>\n",
              "      <th>3rd Most Common Venue</th>\n",
              "      <th>4th Most Common Venue</th>\n",
              "      <th>5th Most Common Venue</th>\n",
              "      <th>6th Most Common Venue</th>\n",
              "      <th>7th Most Common Venue</th>\n",
              "      <th>8th Most Common Venue</th>\n",
              "      <th>9th Most Common Venue</th>\n",
              "      <th>10th Most Common Venue</th>\n",
              "    </tr>\n",
              "  </thead>\n",
              "  <tbody>\n",
              "    <tr>\n",
              "      <th>5</th>\n",
              "      <td>Hvidovre</td>\n",
              "      <td>Plaza</td>\n",
              "      <td>Construction &amp; Landscaping</td>\n",
              "      <td>Grocery Store</td>\n",
              "      <td>Yoga Studio</td>\n",
              "      <td>Farm</td>\n",
              "      <td>Food &amp; Drink Shop</td>\n",
              "      <td>Flower Shop</td>\n",
              "      <td>Fish Market</td>\n",
              "      <td>Fish &amp; Chips Shop</td>\n",
              "      <td>Fast Food Restaurant</td>\n",
              "    </tr>\n",
              "  </tbody>\n",
              "</table>\n",
              "</div>"
            ],
            "text/plain": [
              "  Neighborhood  ... 10th Most Common Venue\n",
              "5  Hvidovre     ...  Fast Food Restaurant \n",
              "\n",
              "[1 rows x 11 columns]"
            ]
          },
          "metadata": {
            "tags": []
          },
          "execution_count": 69
        }
      ]
    },
    {
      "cell_type": "markdown",
      "metadata": {
        "id": "xqOjB_i959Zk",
        "colab_type": "text"
      },
      "source": [
        "Cluster 2"
      ]
    },
    {
      "cell_type": "code",
      "metadata": {
        "id": "no6CixKScREK",
        "colab_type": "code",
        "colab": {
          "base_uri": "https://localhost:8080/",
          "height": 92
        },
        "outputId": "e7caf1c2-bf86-423a-ea4c-ab49aace155c"
      },
      "source": [
        "cluster2 = cph_merged.loc[cph_merged['Cluster Labels'] == 2, \n",
        "                                cph_merged.columns[[0] + list(range(5, cph_merged.shape[1]))]]                           \n",
        "cluster2"
      ],
      "execution_count": 70,
      "outputs": [
        {
          "output_type": "execute_result",
          "data": {
            "text/html": [
              "<div>\n",
              "<style scoped>\n",
              "    .dataframe tbody tr th:only-of-type {\n",
              "        vertical-align: middle;\n",
              "    }\n",
              "\n",
              "    .dataframe tbody tr th {\n",
              "        vertical-align: top;\n",
              "    }\n",
              "\n",
              "    .dataframe thead th {\n",
              "        text-align: right;\n",
              "    }\n",
              "</style>\n",
              "<table border=\"1\" class=\"dataframe\">\n",
              "  <thead>\n",
              "    <tr style=\"text-align: right;\">\n",
              "      <th></th>\n",
              "      <th>Neighborhood</th>\n",
              "      <th>1st Most Common Venue</th>\n",
              "      <th>2nd Most Common Venue</th>\n",
              "      <th>3rd Most Common Venue</th>\n",
              "      <th>4th Most Common Venue</th>\n",
              "      <th>5th Most Common Venue</th>\n",
              "      <th>6th Most Common Venue</th>\n",
              "      <th>7th Most Common Venue</th>\n",
              "      <th>8th Most Common Venue</th>\n",
              "      <th>9th Most Common Venue</th>\n",
              "      <th>10th Most Common Venue</th>\n",
              "    </tr>\n",
              "  </thead>\n",
              "  <tbody>\n",
              "    <tr>\n",
              "      <th>13</th>\n",
              "      <td>Valby</td>\n",
              "      <td>Indian Restaurant</td>\n",
              "      <td>Karaoke Bar</td>\n",
              "      <td>Pizza Place</td>\n",
              "      <td>Bus Station</td>\n",
              "      <td>Discount Store</td>\n",
              "      <td>Dive Bar</td>\n",
              "      <td>Diner</td>\n",
              "      <td>Electronics Store</td>\n",
              "      <td>Falafel Restaurant</td>\n",
              "      <td>Food Service</td>\n",
              "    </tr>\n",
              "  </tbody>\n",
              "</table>\n",
              "</div>"
            ],
            "text/plain": [
              "   Neighborhood  ... 10th Most Common Venue\n",
              "13  Valby        ...  Food Service         \n",
              "\n",
              "[1 rows x 11 columns]"
            ]
          },
          "metadata": {
            "tags": []
          },
          "execution_count": 70
        }
      ]
    },
    {
      "cell_type": "markdown",
      "metadata": {
        "id": "pLNSUk2c6AXV",
        "colab_type": "text"
      },
      "source": [
        "Cluster 3"
      ]
    },
    {
      "cell_type": "code",
      "metadata": {
        "id": "5m9lCew8cT8b",
        "colab_type": "code",
        "colab": {
          "base_uri": "https://localhost:8080/",
          "height": 92
        },
        "outputId": "4859ce2d-01f7-4f06-8090-8a27a7cdf7f1"
      },
      "source": [
        "cluster3 = cph_merged.loc[cph_merged['Cluster Labels'] == 3, \n",
        "                                cph_merged.columns[[0] + list(range(5, cph_merged.shape[1]))]]                           \n",
        "cluster3"
      ],
      "execution_count": 71,
      "outputs": [
        {
          "output_type": "execute_result",
          "data": {
            "text/html": [
              "<div>\n",
              "<style scoped>\n",
              "    .dataframe tbody tr th:only-of-type {\n",
              "        vertical-align: middle;\n",
              "    }\n",
              "\n",
              "    .dataframe tbody tr th {\n",
              "        vertical-align: top;\n",
              "    }\n",
              "\n",
              "    .dataframe thead th {\n",
              "        text-align: right;\n",
              "    }\n",
              "</style>\n",
              "<table border=\"1\" class=\"dataframe\">\n",
              "  <thead>\n",
              "    <tr style=\"text-align: right;\">\n",
              "      <th></th>\n",
              "      <th>Neighborhood</th>\n",
              "      <th>1st Most Common Venue</th>\n",
              "      <th>2nd Most Common Venue</th>\n",
              "      <th>3rd Most Common Venue</th>\n",
              "      <th>4th Most Common Venue</th>\n",
              "      <th>5th Most Common Venue</th>\n",
              "      <th>6th Most Common Venue</th>\n",
              "      <th>7th Most Common Venue</th>\n",
              "      <th>8th Most Common Venue</th>\n",
              "      <th>9th Most Common Venue</th>\n",
              "      <th>10th Most Common Venue</th>\n",
              "    </tr>\n",
              "  </thead>\n",
              "  <tbody>\n",
              "    <tr>\n",
              "      <th>4</th>\n",
              "      <td>Hellerup</td>\n",
              "      <td>Pizza Place</td>\n",
              "      <td>Italian Restaurant</td>\n",
              "      <td>Fast Food Restaurant</td>\n",
              "      <td>Sushi Restaurant</td>\n",
              "      <td>Café</td>\n",
              "      <td>Platform</td>\n",
              "      <td>Grocery Store</td>\n",
              "      <td>Gastropub</td>\n",
              "      <td>Flower Shop</td>\n",
              "      <td>Fish Market</td>\n",
              "    </tr>\n",
              "  </tbody>\n",
              "</table>\n",
              "</div>"
            ],
            "text/plain": [
              "  Neighborhood  ... 10th Most Common Venue\n",
              "4  Hellerup     ...  Fish Market          \n",
              "\n",
              "[1 rows x 11 columns]"
            ]
          },
          "metadata": {
            "tags": []
          },
          "execution_count": 71
        }
      ]
    },
    {
      "cell_type": "markdown",
      "metadata": {
        "id": "fgfeIU246Bf8",
        "colab_type": "text"
      },
      "source": [
        "Cluster 4"
      ]
    },
    {
      "cell_type": "code",
      "metadata": {
        "id": "f50NsFwycl-a",
        "colab_type": "code",
        "colab": {
          "base_uri": "https://localhost:8080/",
          "height": 92
        },
        "outputId": "096741e1-d83a-4d24-e1b0-f33ad3929f3a"
      },
      "source": [
        "cluster4 = cph_merged.loc[cph_merged['Cluster Labels'] == 4, \n",
        "                                cph_merged.columns[[0] + list(range(5, cph_merged.shape[1]))]]                           \n",
        "cluster4"
      ],
      "execution_count": 72,
      "outputs": [
        {
          "output_type": "execute_result",
          "data": {
            "text/html": [
              "<div>\n",
              "<style scoped>\n",
              "    .dataframe tbody tr th:only-of-type {\n",
              "        vertical-align: middle;\n",
              "    }\n",
              "\n",
              "    .dataframe tbody tr th {\n",
              "        vertical-align: top;\n",
              "    }\n",
              "\n",
              "    .dataframe thead th {\n",
              "        text-align: right;\n",
              "    }\n",
              "</style>\n",
              "<table border=\"1\" class=\"dataframe\">\n",
              "  <thead>\n",
              "    <tr style=\"text-align: right;\">\n",
              "      <th></th>\n",
              "      <th>Neighborhood</th>\n",
              "      <th>1st Most Common Venue</th>\n",
              "      <th>2nd Most Common Venue</th>\n",
              "      <th>3rd Most Common Venue</th>\n",
              "      <th>4th Most Common Venue</th>\n",
              "      <th>5th Most Common Venue</th>\n",
              "      <th>6th Most Common Venue</th>\n",
              "      <th>7th Most Common Venue</th>\n",
              "      <th>8th Most Common Venue</th>\n",
              "      <th>9th Most Common Venue</th>\n",
              "      <th>10th Most Common Venue</th>\n",
              "    </tr>\n",
              "  </thead>\n",
              "  <tbody>\n",
              "    <tr>\n",
              "      <th>9</th>\n",
              "      <td>Kobenhavn S</td>\n",
              "      <td>Soccer Stadium</td>\n",
              "      <td>Farm</td>\n",
              "      <td>Park</td>\n",
              "      <td>Fast Food Restaurant</td>\n",
              "      <td>Food &amp; Drink Shop</td>\n",
              "      <td>Flower Shop</td>\n",
              "      <td>Fish Market</td>\n",
              "      <td>Fish &amp; Chips Shop</td>\n",
              "      <td>Yoga Studio</td>\n",
              "      <td>Deli / Bodega</td>\n",
              "    </tr>\n",
              "  </tbody>\n",
              "</table>\n",
              "</div>"
            ],
            "text/plain": [
              "  Neighborhood  ... 10th Most Common Venue\n",
              "9  Kobenhavn S  ...  Deli / Bodega        \n",
              "\n",
              "[1 rows x 11 columns]"
            ]
          },
          "metadata": {
            "tags": []
          },
          "execution_count": 72
        }
      ]
    },
    {
      "cell_type": "markdown",
      "metadata": {
        "id": "JLlN1H_G6C0v",
        "colab_type": "text"
      },
      "source": [
        "Cluster 5"
      ]
    },
    {
      "cell_type": "code",
      "metadata": {
        "id": "r_rOccZlcpMm",
        "colab_type": "code",
        "colab": {
          "base_uri": "https://localhost:8080/",
          "height": 92
        },
        "outputId": "3d5e33e8-a599-4985-ff09-870853a84596"
      },
      "source": [
        "cluster5 = cph_merged.loc[cph_merged['Cluster Labels'] == 5, \n",
        "                                cph_merged.columns[[0] + list(range(5, cph_merged.shape[1]))]]                           \n",
        "cluster5"
      ],
      "execution_count": 73,
      "outputs": [
        {
          "output_type": "execute_result",
          "data": {
            "text/html": [
              "<div>\n",
              "<style scoped>\n",
              "    .dataframe tbody tr th:only-of-type {\n",
              "        vertical-align: middle;\n",
              "    }\n",
              "\n",
              "    .dataframe tbody tr th {\n",
              "        vertical-align: top;\n",
              "    }\n",
              "\n",
              "    .dataframe thead th {\n",
              "        text-align: right;\n",
              "    }\n",
              "</style>\n",
              "<table border=\"1\" class=\"dataframe\">\n",
              "  <thead>\n",
              "    <tr style=\"text-align: right;\">\n",
              "      <th></th>\n",
              "      <th>Neighborhood</th>\n",
              "      <th>1st Most Common Venue</th>\n",
              "      <th>2nd Most Common Venue</th>\n",
              "      <th>3rd Most Common Venue</th>\n",
              "      <th>4th Most Common Venue</th>\n",
              "      <th>5th Most Common Venue</th>\n",
              "      <th>6th Most Common Venue</th>\n",
              "      <th>7th Most Common Venue</th>\n",
              "      <th>8th Most Common Venue</th>\n",
              "      <th>9th Most Common Venue</th>\n",
              "      <th>10th Most Common Venue</th>\n",
              "    </tr>\n",
              "  </thead>\n",
              "  <tbody>\n",
              "    <tr>\n",
              "      <th>1</th>\n",
              "      <td>Dyssegard</td>\n",
              "      <td>Fast Food Restaurant</td>\n",
              "      <td>Italian Restaurant</td>\n",
              "      <td>Convenience Store</td>\n",
              "      <td>Gym / Fitness Center</td>\n",
              "      <td>Restaurant</td>\n",
              "      <td>Ice Cream Shop</td>\n",
              "      <td>Diner</td>\n",
              "      <td>Discount Store</td>\n",
              "      <td>Dive Bar</td>\n",
              "      <td>Food Court</td>\n",
              "    </tr>\n",
              "  </tbody>\n",
              "</table>\n",
              "</div>"
            ],
            "text/plain": [
              "  Neighborhood  ... 10th Most Common Venue\n",
              "1  Dyssegard    ...  Food Court           \n",
              "\n",
              "[1 rows x 11 columns]"
            ]
          },
          "metadata": {
            "tags": []
          },
          "execution_count": 73
        }
      ]
    },
    {
      "cell_type": "markdown",
      "metadata": {
        "id": "OXrRQn0i6EjD",
        "colab_type": "text"
      },
      "source": [
        "Cluster 6"
      ]
    },
    {
      "cell_type": "code",
      "metadata": {
        "id": "jYXwDyljcsZk",
        "colab_type": "code",
        "colab": {
          "base_uri": "https://localhost:8080/",
          "height": 92
        },
        "outputId": "1a6ff96e-dcaa-45b5-ed14-5dd2d0b38efb"
      },
      "source": [
        "cluster6 = cph_merged.loc[cph_merged['Cluster Labels'] == 6, \n",
        "                                cph_merged.columns[[0] + list(range(5, cph_merged.shape[1]))]]                           \n",
        "cluster6"
      ],
      "execution_count": 74,
      "outputs": [
        {
          "output_type": "execute_result",
          "data": {
            "text/html": [
              "<div>\n",
              "<style scoped>\n",
              "    .dataframe tbody tr th:only-of-type {\n",
              "        vertical-align: middle;\n",
              "    }\n",
              "\n",
              "    .dataframe tbody tr th {\n",
              "        vertical-align: top;\n",
              "    }\n",
              "\n",
              "    .dataframe thead th {\n",
              "        text-align: right;\n",
              "    }\n",
              "</style>\n",
              "<table border=\"1\" class=\"dataframe\">\n",
              "  <thead>\n",
              "    <tr style=\"text-align: right;\">\n",
              "      <th></th>\n",
              "      <th>Neighborhood</th>\n",
              "      <th>1st Most Common Venue</th>\n",
              "      <th>2nd Most Common Venue</th>\n",
              "      <th>3rd Most Common Venue</th>\n",
              "      <th>4th Most Common Venue</th>\n",
              "      <th>5th Most Common Venue</th>\n",
              "      <th>6th Most Common Venue</th>\n",
              "      <th>7th Most Common Venue</th>\n",
              "      <th>8th Most Common Venue</th>\n",
              "      <th>9th Most Common Venue</th>\n",
              "      <th>10th Most Common Venue</th>\n",
              "    </tr>\n",
              "  </thead>\n",
              "  <tbody>\n",
              "    <tr>\n",
              "      <th>0</th>\n",
              "      <td>Bronshoj</td>\n",
              "      <td>Grocery Store</td>\n",
              "      <td>Supermarket</td>\n",
              "      <td>Speakeasy</td>\n",
              "      <td>Playground</td>\n",
              "      <td>Gym / Fitness Center</td>\n",
              "      <td>Discount Store</td>\n",
              "      <td>Pizza Place</td>\n",
              "      <td>Farm</td>\n",
              "      <td>Fish Market</td>\n",
              "      <td>Fish &amp; Chips Shop</td>\n",
              "    </tr>\n",
              "  </tbody>\n",
              "</table>\n",
              "</div>"
            ],
            "text/plain": [
              "  Neighborhood  ... 10th Most Common Venue\n",
              "0  Bronshoj     ...  Fish & Chips Shop    \n",
              "\n",
              "[1 rows x 11 columns]"
            ]
          },
          "metadata": {
            "tags": []
          },
          "execution_count": 74
        }
      ]
    },
    {
      "cell_type": "markdown",
      "metadata": {
        "id": "iPeR9dMi5Cry",
        "colab_type": "text"
      },
      "source": [
        "# Tourist residential areas\n"
      ]
    },
    {
      "cell_type": "markdown",
      "metadata": {
        "id": "0vfHdlEJ73EJ",
        "colab_type": "text"
      },
      "source": [
        "In the previous section we saw that we have many neighborhoods that belong to the Cluster 0 which are defined as the 'Trendy and Going-out Areas' of the city. However, these neighborhoods are not small and whithin a given neighborhood there might be areas that are not so attractive. \n",
        "\n",
        "In order to find the most attractive areas to open a bar I have used a AirBNB listings dataset for the city of Copenhagen which is publicly avaliable for download at: https://tomslee.net/category/airbnb-data . The combination of these dataset with the information we got previously from the clusters can define where the Bar should be opened with much more location precision.\n",
        "\n"
      ]
    },
    {
      "cell_type": "code",
      "metadata": {
        "id": "mzSH-8HX8DWo",
        "colab_type": "code",
        "outputId": "245d7dfc-5589-4a6e-8059-f73f4496abed",
        "colab": {
          "base_uri": "https://localhost:8080/",
          "height": 438
        }
      },
      "source": [
        "listings_url = 'https://raw.githubusercontent.com/rafabrnd/Coursera_Capstone/master/listings.csv' \n",
        "listings = pd.read_csv(listings_url)\n",
        "listings.head()"
      ],
      "execution_count": 75,
      "outputs": [
        {
          "output_type": "execute_result",
          "data": {
            "text/html": [
              "<div>\n",
              "<style scoped>\n",
              "    .dataframe tbody tr th:only-of-type {\n",
              "        vertical-align: middle;\n",
              "    }\n",
              "\n",
              "    .dataframe tbody tr th {\n",
              "        vertical-align: top;\n",
              "    }\n",
              "\n",
              "    .dataframe thead th {\n",
              "        text-align: right;\n",
              "    }\n",
              "</style>\n",
              "<table border=\"1\" class=\"dataframe\">\n",
              "  <thead>\n",
              "    <tr style=\"text-align: right;\">\n",
              "      <th></th>\n",
              "      <th>id</th>\n",
              "      <th>name</th>\n",
              "      <th>host_id</th>\n",
              "      <th>host_name</th>\n",
              "      <th>neighbourhood_group</th>\n",
              "      <th>neighbourhood</th>\n",
              "      <th>latitude</th>\n",
              "      <th>longitude</th>\n",
              "      <th>room_type</th>\n",
              "      <th>price</th>\n",
              "      <th>minimum_nights</th>\n",
              "      <th>number_of_reviews</th>\n",
              "      <th>last_review</th>\n",
              "      <th>reviews_per_month</th>\n",
              "      <th>calculated_host_listings_count</th>\n",
              "      <th>availability_365</th>\n",
              "    </tr>\n",
              "  </thead>\n",
              "  <tbody>\n",
              "    <tr>\n",
              "      <th>0</th>\n",
              "      <td>6983</td>\n",
              "      <td>Copenhagen 'N Livin'</td>\n",
              "      <td>16774</td>\n",
              "      <td>Simon</td>\n",
              "      <td>nan</td>\n",
              "      <td>Nrrebro</td>\n",
              "      <td>55.68798000</td>\n",
              "      <td>12.54571000</td>\n",
              "      <td>Private room</td>\n",
              "      <td>373</td>\n",
              "      <td>2</td>\n",
              "      <td>168</td>\n",
              "      <td>2019-07-19</td>\n",
              "      <td>1.32000000</td>\n",
              "      <td>1</td>\n",
              "      <td>0</td>\n",
              "    </tr>\n",
              "    <tr>\n",
              "      <th>1</th>\n",
              "      <td>26057</td>\n",
              "      <td>Lovely house - most attractive area</td>\n",
              "      <td>109777</td>\n",
              "      <td>Kari</td>\n",
              "      <td>nan</td>\n",
              "      <td>Indre By</td>\n",
              "      <td>55.69163000</td>\n",
              "      <td>12.57459000</td>\n",
              "      <td>Entire home/apt</td>\n",
              "      <td>2397</td>\n",
              "      <td>3</td>\n",
              "      <td>50</td>\n",
              "      <td>2019-12-14</td>\n",
              "      <td>0.66000000</td>\n",
              "      <td>1</td>\n",
              "      <td>333</td>\n",
              "    </tr>\n",
              "    <tr>\n",
              "      <th>2</th>\n",
              "      <td>26473</td>\n",
              "      <td>City Centre Townhouse Sleeps 1-12 persons</td>\n",
              "      <td>112210</td>\n",
              "      <td>Oliver</td>\n",
              "      <td>nan</td>\n",
              "      <td>Indre By</td>\n",
              "      <td>55.67590000</td>\n",
              "      <td>12.57698000</td>\n",
              "      <td>Entire home/apt</td>\n",
              "      <td>3103</td>\n",
              "      <td>3</td>\n",
              "      <td>292</td>\n",
              "      <td>2020-02-21</td>\n",
              "      <td>2.56000000</td>\n",
              "      <td>2</td>\n",
              "      <td>81</td>\n",
              "    </tr>\n",
              "    <tr>\n",
              "      <th>3</th>\n",
              "      <td>29118</td>\n",
              "      <td>Best Location in Cool Istedgade</td>\n",
              "      <td>125230</td>\n",
              "      <td>Nana</td>\n",
              "      <td>nan</td>\n",
              "      <td>Vesterbro-Kongens Enghave</td>\n",
              "      <td>55.67069000</td>\n",
              "      <td>12.55430000</td>\n",
              "      <td>Entire home/apt</td>\n",
              "      <td>801</td>\n",
              "      <td>7</td>\n",
              "      <td>22</td>\n",
              "      <td>2019-08-02</td>\n",
              "      <td>0.19000000</td>\n",
              "      <td>1</td>\n",
              "      <td>26</td>\n",
              "    </tr>\n",
              "    <tr>\n",
              "      <th>4</th>\n",
              "      <td>29618</td>\n",
              "      <td>Artsy and familyfriendly home in lovely Copenhagen</td>\n",
              "      <td>127577</td>\n",
              "      <td>Simon And Anna</td>\n",
              "      <td>nan</td>\n",
              "      <td>sterbro</td>\n",
              "      <td>55.69375000</td>\n",
              "      <td>12.56945000</td>\n",
              "      <td>Entire home/apt</td>\n",
              "      <td>862</td>\n",
              "      <td>7</td>\n",
              "      <td>90</td>\n",
              "      <td>2017-06-03</td>\n",
              "      <td>0.77000000</td>\n",
              "      <td>1</td>\n",
              "      <td>0</td>\n",
              "    </tr>\n",
              "  </tbody>\n",
              "</table>\n",
              "</div>"
            ],
            "text/plain": [
              "      id  ... availability_365\n",
              "0  6983   ...  0              \n",
              "1  26057  ...  333            \n",
              "2  26473  ...  81             \n",
              "3  29118  ...  26             \n",
              "4  29618  ...  0              \n",
              "\n",
              "[5 rows x 16 columns]"
            ]
          },
          "metadata": {
            "tags": []
          },
          "execution_count": 75
        }
      ]
    },
    {
      "cell_type": "markdown",
      "metadata": {
        "id": "wJxhM4mx8dqo",
        "colab_type": "text"
      },
      "source": [
        "Clean up the dataset. The only thing we need from this dataset is the latitude and the longitude values. \n",
        "\n",
        "Notes: Here I decided to use a map tile 'Stamen Toner' because Copenhagen have multiple water canals which makes its easier to locate the different areas when using a heatmap on top. \n",
        "\n",
        "\n"
      ]
    },
    {
      "cell_type": "code",
      "metadata": {
        "id": "rSd3canyAVZq",
        "colab_type": "code",
        "colab": {
          "base_uri": "https://localhost:8080/",
          "height": 1000
        },
        "outputId": "34d0d9fc-25f6-4aeb-9658-90d3f6b6bee7"
      },
      "source": [
        "#reduce the size of the dataframe\n",
        "limit = 250\n",
        "listings_filtered = listings.iloc[0:limit, :]\n",
        "\n",
        "#define new variable with only the 'latitude' and 'longitude' features\n",
        "listings_filtered = listings_filtered[['latitude','longitude']]\n",
        "#remove any NaN values\n",
        "listings_filtered = listings_filtered.dropna(axis=0)\n",
        "#loop to make a list with the latitude and longitude (nested list)\n",
        "listings_filtered = [[row['latitude'],row['longitude']] for index, row in listings_filtered.iterrows()]\n",
        "\n",
        "\n",
        "#create map object\n",
        "map_cph_airbnb = folium.Map(location = [latitude, longitude], zoom_start = 13, tiles='Stamen Toner')\n",
        "\n",
        "#Heatmap\n",
        "from folium import plugins\n",
        "from folium.plugins import HeatMap\n",
        "\n",
        "HeatMap(listings_filtered).add_to(map_cph_airbnb)\n",
        "\n",
        "# Display the map\n",
        "map_cph_airbnb"
      ],
      "execution_count": 76,
      "outputs": [
        {
          "output_type": "execute_result",
          "data": {
            "text/html": [
              "<div style=\"width:100%;\"><div style=\"position:relative;width:100%;height:0;padding-bottom:60%;\"><iframe src=\"about:blank\" style=\"position:absolute;width:100%;height:100%;left:0;top:0;border:none !important;\" data-html=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 onload=\"this.contentDocument.open();this.contentDocument.write(atob(this.getAttribute('data-html')));this.contentDocument.close();\" allowfullscreen webkitallowfullscreen mozallowfullscreen></iframe></div></div>"
            ],
            "text/plain": [
              "<folium.folium.Map at 0x7fc9052d6908>"
            ]
          },
          "metadata": {
            "tags": []
          },
          "execution_count": 76
        }
      ]
    },
    {
      "cell_type": "markdown",
      "metadata": {
        "id": "2ofJfud2g7PG",
        "colab_type": "text"
      },
      "source": [
        "# Clusters & tourist residential areas"
      ]
    },
    {
      "cell_type": "markdown",
      "metadata": {
        "id": "sk5Cc_6bhFl7",
        "colab_type": "text"
      },
      "source": [
        "The following map shows an overlay of the Cluster0 (the neighborhoods that have more restaurants and bars) with the most popular toursit residential areas (where the tourists choose to stay)\n",
        "\n",
        "This map shows that Neighborhoods such as 'Copenhagen N' and 'Copenhagen V' are the most attractive for tourists and represent the best candidates for the location of a new bar."
      ]
    },
    {
      "cell_type": "code",
      "metadata": {
        "id": "IMuyy9e5ayH_",
        "colab_type": "code",
        "colab": {
          "base_uri": "https://localhost:8080/",
          "height": 1000
        },
        "outputId": "8d86f38f-d6a2-4f51-bbc5-4f98db6278c3"
      },
      "source": [
        "#Replace Cluster0 names with their English version; The current name letters are not supported by folium\n",
        "namelist = ['Frederiksberg C','Frederiksberg','Copenhagen C','Copenhagen N','Copenhagen NV','Copenhagen SV',\n",
        "            'Copenhagen O','Copenhagen V','Vanlose']\n",
        "cluster0['Neighborhood'] = namelist\n",
        "\n",
        "# add pop-up text to each marker on the map\n",
        "latitudes = list(cluster0['Latitude'])\n",
        "longitudes = list(cluster0['Longitude'])\n",
        "labels = list(cluster0['Neighborhood'])\n",
        "\n",
        "for lat, lng, label in zip(latitudes, longitudes, labels):\n",
        "    folium.Marker([lat, lng], popup=label,icon=folium.Icon(color='red',icon='home')).add_to(map_cph_airbnb)    \n",
        "\n",
        "map_cph_airbnb"
      ],
      "execution_count": 77,
      "outputs": [
        {
          "output_type": "stream",
          "text": [
            "/usr/local/lib/python3.6/dist-packages/ipykernel_launcher.py:3: SettingWithCopyWarning: \n",
            "A value is trying to be set on a copy of a slice from a DataFrame.\n",
            "Try using .loc[row_indexer,col_indexer] = value instead\n",
            "\n",
            "See the caveats in the documentation: https://pandas.pydata.org/pandas-docs/stable/user_guide/indexing.html#returning-a-view-versus-a-copy\n",
            "  This is separate from the ipykernel package so we can avoid doing imports until\n"
          ],
          "name": "stderr"
        },
        {
          "output_type": "execute_result",
          "data": {
            "text/html": [
              "<div style=\"width:100%;\"><div style=\"position:relative;width:100%;height:0;padding-bottom:60%;\"><iframe src=\"about:blank\" style=\"position:absolute;width:100%;height:100%;left:0;top:0;border:none !important;\" data-html=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 onload=\"this.contentDocument.open();this.contentDocument.write(atob(this.getAttribute('data-html')));this.contentDocument.close();\" allowfullscreen webkitallowfullscreen mozallowfullscreen></iframe></div></div>"
            ],
            "text/plain": [
              "<folium.folium.Map at 0x7fc9052d6908>"
            ]
          },
          "metadata": {
            "tags": []
          },
          "execution_count": 77
        }
      ]
    },
    {
      "cell_type": "markdown",
      "metadata": {
        "id": "kOBpjHinkHPe",
        "colab_type": "text"
      },
      "source": [
        "\n",
        "---\n",
        "---\n",
        "**Thank your for reading!**\n",
        "\n",
        "---\n",
        "---"
      ]
    }
  ]
}