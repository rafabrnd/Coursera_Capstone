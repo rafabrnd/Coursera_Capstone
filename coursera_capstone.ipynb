{
  "nbformat": 4,
  "nbformat_minor": 0,
  "metadata": {
    "colab": {
      "name": "coursera_capstone.ipynb",
      "provenance": [],
      "authorship_tag": "ABX9TyPXVOOWYg91pPNz65zzvNgE",
      "include_colab_link": true
    },
    "kernelspec": {
      "name": "python3",
      "display_name": "Python 3"
    }
  },
  "cells": [
    {
      "cell_type": "markdown",
      "metadata": {
        "id": "view-in-github",
        "colab_type": "text"
      },
      "source": [
        "<a href=\"https://colab.research.google.com/github/rafabrnd/Coursera_Capstone/blob/master/coursera_capstone.ipynb\" target=\"_parent\"><img src=\"https://colab.research.google.com/assets/colab-badge.svg\" alt=\"Open In Colab\"/></a>"
      ]
    },
    {
      "cell_type": "markdown",
      "metadata": {
        "id": "ZxetFs9jPy6d",
        "colab_type": "text"
      },
      "source": [
        "### This notebook will be used for the Coursera Capstone project"
      ]
    },
    {
      "cell_type": "code",
      "metadata": {
        "id": "OZWyVtmBP31T",
        "colab_type": "code",
        "colab": {
          "base_uri": "https://localhost:8080/",
          "height": 34
        },
        "outputId": "3ad4821c-c120-4421-b0d1-a08e3705e2b4"
      },
      "source": [
        "import numpy as np\n",
        "import pandas as pd\n",
        "print(\"Hello Capstone Project\")"
      ],
      "execution_count": 1,
      "outputs": [
        {
          "output_type": "stream",
          "text": [
            "Hello Capstone Project\n"
          ],
          "name": "stdout"
        }
      ]
    },
    {
      "cell_type": "code",
      "metadata": {
        "id": "-xKGcXoxQBKY",
        "colab_type": "code",
        "colab": {}
      },
      "source": [
        ""
      ],
      "execution_count": 0,
      "outputs": []
    }
  ]
}