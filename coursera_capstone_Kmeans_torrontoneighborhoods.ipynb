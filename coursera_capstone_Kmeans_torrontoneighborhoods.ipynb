{
  "nbformat": 4,
  "nbformat_minor": 0,
  "metadata": {
    "colab": {
      "name": "coursera_capstone_Kmeans_torrontoneighborhoods.ipynb",
      "provenance": [],
      "authorship_tag": "ABX9TyNETJHq4wL4tdNTj1KoUoIp",
      "include_colab_link": true
    },
    "kernelspec": {
      "name": "python3",
      "display_name": "Python 3"
    }
  },
  "cells": [
    {
      "cell_type": "markdown",
      "metadata": {
        "id": "view-in-github",
        "colab_type": "text"
      },
      "source": [
        "<a href=\"https://colab.research.google.com/github/rafabrnd/Coursera_Capstone/blob/master/coursera_capstone_Kmeans_torrontoneighborhoods.ipynb\" target=\"_parent\"><img src=\"https://colab.research.google.com/assets/colab-badge.svg\" alt=\"Open In Colab\"/></a>"
      ]
    },
    {
      "cell_type": "markdown",
      "metadata": {
        "id": "ZxetFs9jPy6d",
        "colab_type": "text"
      },
      "source": [
        "# **Segmenting and Clustering Neighborhoods in Toronto**\n",
        "### *Applied Data Science Capstone > Week 3*\n",
        "\n",
        "\n",
        "\n",
        "\n",
        "\n",
        "\n",
        "<img src=\"https://media.giphy.com/media/olAik8MhYOB9K/giphy.gif\" width=\"250\" align=\"left\">\n",
        "\n"
      ]
    },
    {
      "cell_type": "markdown",
      "metadata": {
        "id": "DaUPNdU5pjCA",
        "colab_type": "text"
      },
      "source": [
        "Load the necessary packages"
      ]
    },
    {
      "cell_type": "code",
      "metadata": {
        "id": "OZWyVtmBP31T",
        "colab_type": "code",
        "colab": {}
      },
      "source": [
        "import numpy as np\n",
        "import pandas as pd\n"
      ],
      "execution_count": 0,
      "outputs": []
    },
    {
      "cell_type": "markdown",
      "metadata": {
        "id": "TpLRCDxLpm43",
        "colab_type": "text"
      },
      "source": [
        "### 1. Load the file URL from GitHub\n",
        "Ignore some bad lines where there was some formating errors. To get to this dataset I copied the table into MS Excel and saved the file as .csv (comma separated)  "
      ]
    },
    {
      "cell_type": "code",
      "metadata": {
        "id": "pbWCngvDXJbv",
        "colab_type": "code",
        "colab": {
          "base_uri": "https://localhost:8080/",
          "height": 225
        },
        "outputId": "a5fa1799-26a9-4594-d079-dd6c9b68dff7"
      },
      "source": [
        "url = 'https://raw.githubusercontent.com/rafabrnd/Coursera_Capstone/master/toronto_neigh_dataset.csv' \n",
        "toronto = pd.read_csv(url,sep=',',error_bad_lines=False) #here i ignored some bad lines to make it possible to load the file\n",
        "toronto.head() #check the first 5 rows of the dataset"
      ],
      "execution_count": 67,
      "outputs": [
        {
          "output_type": "stream",
          "text": [
            "b'Skipping line 15: expected 3 fields, saw 4\\n'\n"
          ],
          "name": "stderr"
        },
        {
          "output_type": "execute_result",
          "data": {
            "text/html": [
              "<div>\n",
              "<style scoped>\n",
              "    .dataframe tbody tr th:only-of-type {\n",
              "        vertical-align: middle;\n",
              "    }\n",
              "\n",
              "    .dataframe tbody tr th {\n",
              "        vertical-align: top;\n",
              "    }\n",
              "\n",
              "    .dataframe thead th {\n",
              "        text-align: right;\n",
              "    }\n",
              "</style>\n",
              "<table border=\"1\" class=\"dataframe\">\n",
              "  <thead>\n",
              "    <tr style=\"text-align: right;\">\n",
              "      <th></th>\n",
              "      <th>Postal code</th>\n",
              "      <th>Borough</th>\n",
              "      <th>Neighborhood</th>\n",
              "    </tr>\n",
              "  </thead>\n",
              "  <tbody>\n",
              "    <tr>\n",
              "      <th>0</th>\n",
              "      <td>M1A</td>\n",
              "      <td>Not assigned</td>\n",
              "      <td>NaN</td>\n",
              "    </tr>\n",
              "    <tr>\n",
              "      <th>1</th>\n",
              "      <td>M2A</td>\n",
              "      <td>Not assigned</td>\n",
              "      <td>NaN</td>\n",
              "    </tr>\n",
              "    <tr>\n",
              "      <th>2</th>\n",
              "      <td>M3A</td>\n",
              "      <td>North York</td>\n",
              "      <td>Parkwoods</td>\n",
              "    </tr>\n",
              "    <tr>\n",
              "      <th>3</th>\n",
              "      <td>M4A</td>\n",
              "      <td>North York</td>\n",
              "      <td>Victoria Village</td>\n",
              "    </tr>\n",
              "    <tr>\n",
              "      <th>4</th>\n",
              "      <td>M5A</td>\n",
              "      <td>Downtown Toronto</td>\n",
              "      <td>Regent Park / Harbourfront</td>\n",
              "    </tr>\n",
              "  </tbody>\n",
              "</table>\n",
              "</div>"
            ],
            "text/plain": [
              "  Postal code            Borough                 Neighborhood\n",
              "0         M1A       Not assigned                          NaN\n",
              "1         M2A       Not assigned                          NaN\n",
              "2         M3A         North York                    Parkwoods\n",
              "3         M4A         North York             Victoria Village\n",
              "4         M5A   Downtown Toronto   Regent Park / Harbourfront"
            ]
          },
          "metadata": {
            "tags": []
          },
          "execution_count": 67
        }
      ]
    },
    {
      "cell_type": "code",
      "metadata": {
        "id": "Fz01XNzMjsP5",
        "colab_type": "code",
        "colab": {
          "base_uri": "https://localhost:8080/",
          "height": 54
        },
        "outputId": "7423666c-6eb6-4b19-a689-53f6917fdfc9"
      },
      "source": [
        "#check the shape of the dataset\n",
        "\n",
        "print(\"Dataset shape is: \", toronto.shape)\n",
        "print ('Columns names are: ', toronto.columns)\n"
      ],
      "execution_count": 68,
      "outputs": [
        {
          "output_type": "stream",
          "text": [
            "Dataset shape is:  (182, 3)\n",
            "Columns names are:  Index(['Postal code ', 'Borough ', 'Neighborhood'], dtype='object')\n"
          ],
          "name": "stdout"
        }
      ]
    },
    {
      "cell_type": "markdown",
      "metadata": {
        "id": "hvGfq6g8pHAr",
        "colab_type": "text"
      },
      "source": [
        "### 2. Data wrangling\n",
        "\n",
        "Here I noticed that the 'Postal code ' and 'Borough ' have a space after their name. \n",
        "Their names should be replaced for something easier to read\n"
      ]
    },
    {
      "cell_type": "code",
      "metadata": {
        "id": "3mM0WnfFkxgm",
        "colab_type": "code",
        "colab": {
          "base_uri": "https://localhost:8080/",
          "height": 35
        },
        "outputId": "906fa1a1-bfb0-400e-807c-f3f2f36d8307"
      },
      "source": [
        "toronto = toronto.rename(columns={'Postal code ':'postal_code','Borough ':'borough', 'Neighborhood':'neighborhood'})\n",
        "toronto.columns"
      ],
      "execution_count": 69,
      "outputs": [
        {
          "output_type": "execute_result",
          "data": {
            "text/plain": [
              "Index(['postal_code', 'borough', 'neighborhood'], dtype='object')"
            ]
          },
          "metadata": {
            "tags": []
          },
          "execution_count": 69
        }
      ]
    },
    {
      "cell_type": "markdown",
      "metadata": {
        "id": "VSECvjy_w9Z7",
        "colab_type": "text"
      },
      "source": [
        "Here all the entries where the borough is 'Not assinged ' are droped.\n",
        "Notice that there is a ' ' at the right side.\n",
        "A new dataframe is defined with all the rows are that have assigned borough names"
      ]
    },
    {
      "cell_type": "code",
      "metadata": {
        "id": "mtGD3hiQluh2",
        "colab_type": "code",
        "colab": {}
      },
      "source": [
        "toronto = toronto.loc[~(toronto['borough'] == 'Not assigned ')]"
      ],
      "execution_count": 0,
      "outputs": []
    },
    {
      "cell_type": "code",
      "metadata": {
        "id": "SxnBNAmzn_Pv",
        "colab_type": "code",
        "colab": {
          "base_uri": "https://localhost:8080/",
          "height": 225
        },
        "outputId": "0158cc28-3502-4bcd-f139-846c5c7faf6d"
      },
      "source": [
        "print(\"The current shape of the Toronto datafrane is: \", toronto.shape)\n",
        "toronto.head()"
      ],
      "execution_count": 74,
      "outputs": [
        {
          "output_type": "stream",
          "text": [
            "The current shape of the Toronto datafrane is:  (105, 3)\n"
          ],
          "name": "stdout"
        },
        {
          "output_type": "execute_result",
          "data": {
            "text/html": [
              "<div>\n",
              "<style scoped>\n",
              "    .dataframe tbody tr th:only-of-type {\n",
              "        vertical-align: middle;\n",
              "    }\n",
              "\n",
              "    .dataframe tbody tr th {\n",
              "        vertical-align: top;\n",
              "    }\n",
              "\n",
              "    .dataframe thead th {\n",
              "        text-align: right;\n",
              "    }\n",
              "</style>\n",
              "<table border=\"1\" class=\"dataframe\">\n",
              "  <thead>\n",
              "    <tr style=\"text-align: right;\">\n",
              "      <th></th>\n",
              "      <th>postal_code</th>\n",
              "      <th>borough</th>\n",
              "      <th>neighborhood</th>\n",
              "    </tr>\n",
              "  </thead>\n",
              "  <tbody>\n",
              "    <tr>\n",
              "      <th>2</th>\n",
              "      <td>M3A</td>\n",
              "      <td>North York</td>\n",
              "      <td>Parkwoods</td>\n",
              "    </tr>\n",
              "    <tr>\n",
              "      <th>3</th>\n",
              "      <td>M4A</td>\n",
              "      <td>North York</td>\n",
              "      <td>Victoria Village</td>\n",
              "    </tr>\n",
              "    <tr>\n",
              "      <th>4</th>\n",
              "      <td>M5A</td>\n",
              "      <td>Downtown Toronto</td>\n",
              "      <td>Regent Park / Harbourfront</td>\n",
              "    </tr>\n",
              "    <tr>\n",
              "      <th>5</th>\n",
              "      <td>M6A</td>\n",
              "      <td>North York</td>\n",
              "      <td>Lawrence Manor / Lawrence Heights</td>\n",
              "    </tr>\n",
              "    <tr>\n",
              "      <th>6</th>\n",
              "      <td>M7A</td>\n",
              "      <td>Downtown Toronto</td>\n",
              "      <td>Queen's Park / Ontario Provincial Government</td>\n",
              "    </tr>\n",
              "  </tbody>\n",
              "</table>\n",
              "</div>"
            ],
            "text/plain": [
              "  postal_code           borough                                  neighborhood\n",
              "2         M3A        North York                                     Parkwoods\n",
              "3         M4A        North York                              Victoria Village\n",
              "4         M5A  Downtown Toronto                    Regent Park / Harbourfront\n",
              "5         M6A        North York             Lawrence Manor / Lawrence Heights\n",
              "6         M7A  Downtown Toronto  Queen's Park / Ontario Provincial Government"
            ]
          },
          "metadata": {
            "tags": []
          },
          "execution_count": 74
        }
      ]
    },
    {
      "cell_type": "markdown",
      "metadata": {
        "id": "br_lC2Pjx4vD",
        "colab_type": "text"
      },
      "source": [
        "Due to the copy & paste from the wikipedia page into the MS Excel there were some residual spaces either before or after some of the values. Here I used a **for** loop that loops through the different column names and strips each Series from potential spaces (' ') that could be located at their left or right side.\n",
        "Note that this strip() function does not remove the spaces in the middle of the strings, so it is safe to use even though we have some 2 work names. "
      ]
    },
    {
      "cell_type": "code",
      "metadata": {
        "id": "p1N1_H8tsFGX",
        "colab_type": "code",
        "colab": {
          "base_uri": "https://localhost:8080/",
          "height": 35
        },
        "outputId": "8df40c77-b879-4220-c3bc-7b63b6b88acb"
      },
      "source": [
        "columns = list(toronto.columns)\n",
        "for column_name in columns:\n",
        "  toronto[column_name] = toronto[column_name].str.strip()\n",
        "\n",
        "#this following piece of code defines a new df where all the ' ' are replaced with '_'\n",
        "#it does not change the 'toronto' dataframe\n",
        "#this was done to test the for loop above\n",
        "test_df = toronto.replace(' ','_', regex=True)\n",
        "test_df"
      ],
      "execution_count": 73,
      "outputs": [
        {
          "output_type": "stream",
          "text": [
            "The current shape of the Toronto datafrane is:  (105, 3)\n"
          ],
          "name": "stdout"
        }
      ]
    },
    {
      "cell_type": "markdown",
      "metadata": {
        "id": "0AkhyDit2fqu",
        "colab_type": "text"
      },
      "source": [
        "Here I split the neighborhood names at the '/' in order to create a list with each one of those names\n",
        "\n",
        "Make a loop where each one of those names is assigned to the same 'postal_code' and 'borough' they were originally at. "
      ]
    },
    {
      "cell_type": "code",
      "metadata": {
        "id": "9g6ddr-ZtnSX",
        "colab_type": "code",
        "colab": {
          "base_uri": "https://localhost:8080/",
          "height": 127
        },
        "outputId": "e7ac4661-5cb4-43ff-c680-b7d7dd03784c"
      },
      "source": [
        "toronto_expanded = toronto['neighborhood'].str.split('/', n=-1)\n",
        "toronto_expanded.head()"
      ],
      "execution_count": 77,
      "outputs": [
        {
          "output_type": "execute_result",
          "data": {
            "text/plain": [
              "2                                        [Parkwoods]\n",
              "3                                 [Victoria Village]\n",
              "4                      [Regent Park ,  Harbourfront]\n",
              "5               [Lawrence Manor ,  Lawrence Heights]\n",
              "6    [Queen's Park ,  Ontario Provincial Government]\n",
              "Name: neighborhood, dtype: object"
            ]
          },
          "metadata": {
            "tags": []
          },
          "execution_count": 77
        }
      ]
    },
    {
      "cell_type": "code",
      "metadata": {
        "id": "0sfovwd_vCOW",
        "colab_type": "code",
        "colab": {
          "base_uri": "https://localhost:8080/",
          "height": 127
        },
        "outputId": "307d779b-3454-4ffb-87c4-cee09ab65dcb"
      },
      "source": [
        "toronto_expanded = toronto_expanded.reset_index(drop=True)\n",
        "toronto_expanded.head()"
      ],
      "execution_count": 84,
      "outputs": [
        {
          "output_type": "execute_result",
          "data": {
            "text/plain": [
              "0                                        [Parkwoods]\n",
              "1                                 [Victoria Village]\n",
              "2                      [Regent Park ,  Harbourfront]\n",
              "3               [Lawrence Manor ,  Lawrence Heights]\n",
              "4    [Queen's Park ,  Ontario Provincial Government]\n",
              "Name: neighborhood, dtype: object"
            ]
          },
          "metadata": {
            "tags": []
          },
          "execution_count": 84
        }
      ]
    },
    {
      "cell_type": "code",
      "metadata": {
        "id": "ujAYfWPG4qye",
        "colab_type": "code",
        "colab": {
          "base_uri": "https://localhost:8080/",
          "height": 35
        },
        "outputId": "3cc2d1e6-0994-4d3c-afce-9c5cefccbc5b"
      },
      "source": [
        "#each value in the series is now a Nested List and (as an example) we can access their values using a nested list index:\n",
        "toronto_expanded.loc[2][1] #"
      ],
      "execution_count": 89,
      "outputs": [
        {
          "output_type": "execute_result",
          "data": {
            "text/plain": [
              "' Harbourfront'"
            ]
          },
          "metadata": {
            "tags": []
          },
          "execution_count": 89
        }
      ]
    },
    {
      "cell_type": "code",
      "metadata": {
        "id": "G9lWqeuS5kpQ",
        "colab_type": "code",
        "colab": {}
      },
      "source": [
        "#remove the spaces before and after each of the values using str.strip\n"
      ],
      "execution_count": 0,
      "outputs": []
    }
  ]
}