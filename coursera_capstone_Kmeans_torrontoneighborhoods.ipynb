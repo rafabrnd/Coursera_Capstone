{
  "nbformat": 4,
  "nbformat_minor": 0,
  "metadata": {
    "colab": {
      "name": "coursera_capstone_Kmeans_torrontoneighborhoods.ipynb",
      "provenance": [],
      "authorship_tag": "ABX9TyOHyCU6q8kEOAJLREhQhXfJ",
      "include_colab_link": true
    },
    "kernelspec": {
      "name": "python3",
      "display_name": "Python 3"
    }
  },
  "cells": [
    {
      "cell_type": "markdown",
      "metadata": {
        "id": "view-in-github",
        "colab_type": "text"
      },
      "source": [
        "<a href=\"https://colab.research.google.com/github/rafabrnd/Coursera_Capstone/blob/master/coursera_capstone_Kmeans_torrontoneighborhoods.ipynb\" target=\"_parent\"><img src=\"https://colab.research.google.com/assets/colab-badge.svg\" alt=\"Open In Colab\"/></a>"
      ]
    },
    {
      "cell_type": "markdown",
      "metadata": {
        "id": "ZxetFs9jPy6d",
        "colab_type": "text"
      },
      "source": [
        "# **Segmenting and Clustering Neighborhoods in Toronto**\n",
        "### *Applied Data Science Capstone > Week 3*\n",
        "\n",
        "\n",
        "\n",
        "\n",
        "\n",
        "\n",
        "<img src=\"https://media.giphy.com/media/olAik8MhYOB9K/giphy.gif\" width=\"250\" align=\"left\">\n",
        "\n"
      ]
    },
    {
      "cell_type": "code",
      "metadata": {
        "id": "OZWyVtmBP31T",
        "colab_type": "code",
        "outputId": "2ea29dd3-cf40-41f8-8563-9d2a98c3590f",
        "colab": {
          "base_uri": "https://localhost:8080/",
          "height": 34
        }
      },
      "source": [
        "import numpy as np\n",
        "import pandas as pd\n",
        "print(\"Hello Capstone Project Course\")"
      ],
      "execution_count": 0,
      "outputs": [
        {
          "output_type": "stream",
          "text": [
            "Hello Capstone Project Course\n"
          ],
          "name": "stdout"
        }
      ]
    },
    {
      "cell_type": "code",
      "metadata": {
        "id": "pbWCngvDXJbv",
        "colab_type": "code",
        "colab": {}
      },
      "source": [
        ""
      ],
      "execution_count": 0,
      "outputs": []
    }
  ]
}